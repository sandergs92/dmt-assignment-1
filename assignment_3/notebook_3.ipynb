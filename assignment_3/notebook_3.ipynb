{
 "cells": [
  {
   "cell_type": "code",
   "execution_count": 1,
   "source": [
    "import helper\n",
    "import numpy as np\n",
    "import pandas as pd\n",
    "import seaborn as sns\n",
    "import matplotlib.pyplot as plt\n",
    "import re\n",
    "from sklearn.feature_extraction.text import CountVectorizer\n",
    "\n",
    "import nltk\n",
    "nltk.download('stopwords')\n",
    "from nltk.corpus import stopwords\n",
    "from nltk.stem.snowball import SnowballStemmer\n",
    "\n",
    "\n",
    "from sklearn.model_selection import train_test_split\n",
    "from sklearn.naive_bayes import MultinomialNB\n",
    "from sklearn.linear_model import LogisticRegression\n",
    "from sklearn.model_selection import cross_val_score, cross_val_predict\n",
    "from sklearn.metrics import classification_report, ConfusionMatrixDisplay, plot_roc_curve"
   ],
   "outputs": [
    {
     "output_type": "stream",
     "name": "stderr",
     "text": [
      "[nltk_data] Downloading package stopwords to\n",
      "[nltk_data]     /home/sanderg/nltk_data...\n",
      "[nltk_data]   Package stopwords is already up-to-date!\n"
     ]
    }
   ],
   "metadata": {}
  },
  {
   "cell_type": "markdown",
   "source": [
    "### Making adjustments to the the data frame as there were errors."
   ],
   "metadata": {}
  },
  {
   "cell_type": "code",
   "execution_count": 2,
   "source": [
    "### Split the df into 2 columns\n",
    "\n",
    "df = pd.read_csv('./data/SmsCollection.csv', sep='\\t')\n",
    "# df['label;text'].str.split(';')\n",
    "df['Labels'] = df['label;text'].str.split(';', n=1, expand=True)[0]\n",
    "df['label;text'] = df['label;text'].str.replace('ham;|spam;', '')\n",
    "df.rename(columns = {'label;text':'Texts'}, inplace=True)"
   ],
   "outputs": [
    {
     "output_type": "stream",
     "name": "stderr",
     "text": [
      "/tmp/ipykernel_14361/611920949.py:6: FutureWarning: The default value of regex will change from True to False in a future version.\n",
      "  df['label;text'] = df['label;text'].str.replace('ham;|spam;', '')\n"
     ]
    }
   ],
   "metadata": {}
  },
  {
   "cell_type": "code",
   "execution_count": 3,
   "source": [
    "# This should be now correct\n",
    "df = df[['Labels', 'Texts']]\n",
    "df.describe()"
   ],
   "outputs": [
    {
     "output_type": "execute_result",
     "data": {
      "text/html": [
       "<div>\n",
       "<style scoped>\n",
       "    .dataframe tbody tr th:only-of-type {\n",
       "        vertical-align: middle;\n",
       "    }\n",
       "\n",
       "    .dataframe tbody tr th {\n",
       "        vertical-align: top;\n",
       "    }\n",
       "\n",
       "    .dataframe thead th {\n",
       "        text-align: right;\n",
       "    }\n",
       "</style>\n",
       "<table border=\"1\" class=\"dataframe\">\n",
       "  <thead>\n",
       "    <tr style=\"text-align: right;\">\n",
       "      <th></th>\n",
       "      <th>Labels</th>\n",
       "      <th>Texts</th>\n",
       "    </tr>\n",
       "  </thead>\n",
       "  <tbody>\n",
       "    <tr>\n",
       "      <th>count</th>\n",
       "      <td>5574</td>\n",
       "      <td>5574</td>\n",
       "    </tr>\n",
       "    <tr>\n",
       "      <th>unique</th>\n",
       "      <td>2</td>\n",
       "      <td>5171</td>\n",
       "    </tr>\n",
       "    <tr>\n",
       "      <th>top</th>\n",
       "      <td>ham</td>\n",
       "      <td>Sorry, I'll call later</td>\n",
       "    </tr>\n",
       "    <tr>\n",
       "      <th>freq</th>\n",
       "      <td>4827</td>\n",
       "      <td>30</td>\n",
       "    </tr>\n",
       "  </tbody>\n",
       "</table>\n",
       "</div>"
      ],
      "text/plain": [
       "       Labels                   Texts\n",
       "count    5574                    5574\n",
       "unique      2                    5171\n",
       "top       ham  Sorry, I'll call later\n",
       "freq     4827                      30"
      ]
     },
     "metadata": {},
     "execution_count": 3
    }
   ],
   "metadata": {}
  },
  {
   "cell_type": "code",
   "execution_count": 4,
   "source": [
    "df.head()"
   ],
   "outputs": [
    {
     "output_type": "execute_result",
     "data": {
      "text/html": [
       "<div>\n",
       "<style scoped>\n",
       "    .dataframe tbody tr th:only-of-type {\n",
       "        vertical-align: middle;\n",
       "    }\n",
       "\n",
       "    .dataframe tbody tr th {\n",
       "        vertical-align: top;\n",
       "    }\n",
       "\n",
       "    .dataframe thead th {\n",
       "        text-align: right;\n",
       "    }\n",
       "</style>\n",
       "<table border=\"1\" class=\"dataframe\">\n",
       "  <thead>\n",
       "    <tr style=\"text-align: right;\">\n",
       "      <th></th>\n",
       "      <th>Labels</th>\n",
       "      <th>Texts</th>\n",
       "    </tr>\n",
       "  </thead>\n",
       "  <tbody>\n",
       "    <tr>\n",
       "      <th>0</th>\n",
       "      <td>ham</td>\n",
       "      <td>Go until jurong point, crazy.. Available only ...</td>\n",
       "    </tr>\n",
       "    <tr>\n",
       "      <th>1</th>\n",
       "      <td>ham</td>\n",
       "      <td>Ok lar... Joking wif u oni...</td>\n",
       "    </tr>\n",
       "    <tr>\n",
       "      <th>2</th>\n",
       "      <td>spam</td>\n",
       "      <td>Free entry in 2 a wkly comp to win FA Cup fina...</td>\n",
       "    </tr>\n",
       "    <tr>\n",
       "      <th>3</th>\n",
       "      <td>ham</td>\n",
       "      <td>U dun say so early hor... U c already then say...</td>\n",
       "    </tr>\n",
       "    <tr>\n",
       "      <th>4</th>\n",
       "      <td>ham</td>\n",
       "      <td>Nah I don't think he goes to usf, he lives aro...</td>\n",
       "    </tr>\n",
       "  </tbody>\n",
       "</table>\n",
       "</div>"
      ],
      "text/plain": [
       "  Labels                                              Texts\n",
       "0    ham  Go until jurong point, crazy.. Available only ...\n",
       "1    ham                      Ok lar... Joking wif u oni...\n",
       "2   spam  Free entry in 2 a wkly comp to win FA Cup fina...\n",
       "3    ham  U dun say so early hor... U c already then say...\n",
       "4    ham  Nah I don't think he goes to usf, he lives aro..."
      ]
     },
     "metadata": {},
     "execution_count": 4
    }
   ],
   "metadata": {}
  },
  {
   "cell_type": "code",
   "execution_count": 5,
   "source": [
    "# How many are spam and how many are ham\n",
    "print(df['Labels'].value_counts())\n"
   ],
   "outputs": [
    {
     "output_type": "stream",
     "name": "stdout",
     "text": [
      "ham     4827\n",
      "spam     747\n",
      "Name: Labels, dtype: int64\n"
     ]
    }
   ],
   "metadata": {}
  },
  {
   "cell_type": "markdown",
   "source": [
    "### Cleaning up the data"
   ],
   "metadata": {}
  },
  {
   "cell_type": "markdown",
   "source": [
    "#### What snowball stemmer does: \n",
    "It reduced a word to its base root/word so that words of similar kind are under a common stem. EXAMPLE: 'care', 'cared' and 'caring' are all under the same stem of 'care'"
   ],
   "metadata": {}
  },
  {
   "cell_type": "markdown",
   "source": [
    "#### What stopwords do:\n",
    "The stopwords in nltk are the most common words in data. They are words that you do not want to use to describe the topic of your content. They are pre-defined and cannot be removed."
   ],
   "metadata": {}
  },
  {
   "cell_type": "markdown",
   "source": [
    "### Tokenisation:\n",
    "So I read around and found that in text mining, tokenisation is process of breaking text into parts: below is the attempt at this process"
   ],
   "metadata": {}
  },
  {
   "cell_type": "code",
   "execution_count": 6,
   "source": [
    "# setting up the NLTK snowballstemmer to English\n",
    "st = SnowballStemmer('english')\n",
    "# setting the NLTK stopword list to English\n",
    "stops = set(stopwords.words('english'))\n",
    "\n",
    "\"\"\"Used list comprehensions that I saw online\"\"\"\n",
    "\n",
    "# Changing to lower case and removing spaces \n",
    "df['Clean texts'] = df['Texts'].apply(lambda x: x.lower().strip())\n",
    "\n",
    "# remove extra spaces in between\n",
    "df['Clean texts'] = df['Clean texts'].apply(lambda x: re.sub(' +', ' ', x))\n",
    "\n",
    "# remove punctuation\n",
    "df['Clean texts'] = df['Clean texts'].apply(lambda x: re.sub('[^a-zA-Z]', ' ', x))\n",
    "\n",
    "# remove stopwords and get the stem\n",
    "df['Clean texts'] = df['Clean texts'].apply(lambda x: ' '.join(st.stem(text) for text in x.split() if text not in stops))\n",
    "\n",
    "# Just in case this is needed, I split the Clean texts column into lists by word, but this causes and error with vectorisation\n",
    "#df['Clean texts'] = df['Clean texts'].apply(lambda x: x.split(' '))\n",
    "df"
   ],
   "outputs": [
    {
     "output_type": "execute_result",
     "data": {
      "text/html": [
       "<div>\n",
       "<style scoped>\n",
       "    .dataframe tbody tr th:only-of-type {\n",
       "        vertical-align: middle;\n",
       "    }\n",
       "\n",
       "    .dataframe tbody tr th {\n",
       "        vertical-align: top;\n",
       "    }\n",
       "\n",
       "    .dataframe thead th {\n",
       "        text-align: right;\n",
       "    }\n",
       "</style>\n",
       "<table border=\"1\" class=\"dataframe\">\n",
       "  <thead>\n",
       "    <tr style=\"text-align: right;\">\n",
       "      <th></th>\n",
       "      <th>Labels</th>\n",
       "      <th>Texts</th>\n",
       "      <th>Clean texts</th>\n",
       "    </tr>\n",
       "  </thead>\n",
       "  <tbody>\n",
       "    <tr>\n",
       "      <th>0</th>\n",
       "      <td>ham</td>\n",
       "      <td>Go until jurong point, crazy.. Available only ...</td>\n",
       "      <td>go jurong point crazi avail bugi n great world...</td>\n",
       "    </tr>\n",
       "    <tr>\n",
       "      <th>1</th>\n",
       "      <td>ham</td>\n",
       "      <td>Ok lar... Joking wif u oni...</td>\n",
       "      <td>ok lar joke wif u oni</td>\n",
       "    </tr>\n",
       "    <tr>\n",
       "      <th>2</th>\n",
       "      <td>spam</td>\n",
       "      <td>Free entry in 2 a wkly comp to win FA Cup fina...</td>\n",
       "      <td>free entri wkli comp win fa cup final tkts st ...</td>\n",
       "    </tr>\n",
       "    <tr>\n",
       "      <th>3</th>\n",
       "      <td>ham</td>\n",
       "      <td>U dun say so early hor... U c already then say...</td>\n",
       "      <td>u dun say earli hor u c alreadi say</td>\n",
       "    </tr>\n",
       "    <tr>\n",
       "      <th>4</th>\n",
       "      <td>ham</td>\n",
       "      <td>Nah I don't think he goes to usf, he lives aro...</td>\n",
       "      <td>nah think goe usf live around though</td>\n",
       "    </tr>\n",
       "    <tr>\n",
       "      <th>...</th>\n",
       "      <td>...</td>\n",
       "      <td>...</td>\n",
       "      <td>...</td>\n",
       "    </tr>\n",
       "    <tr>\n",
       "      <th>5569</th>\n",
       "      <td>spam</td>\n",
       "      <td>This is the 2nd time we have tried 2 contact u...</td>\n",
       "      <td>nd time tri contact u u pound prize claim easi...</td>\n",
       "    </tr>\n",
       "    <tr>\n",
       "      <th>5570</th>\n",
       "      <td>ham</td>\n",
       "      <td>Will ü b going to esplanade fr home?</td>\n",
       "      <td>b go esplanad fr home</td>\n",
       "    </tr>\n",
       "    <tr>\n",
       "      <th>5571</th>\n",
       "      <td>ham</td>\n",
       "      <td>Pity, * was in mood for that. So...any other s...</td>\n",
       "      <td>piti mood suggest</td>\n",
       "    </tr>\n",
       "    <tr>\n",
       "      <th>5572</th>\n",
       "      <td>ham</td>\n",
       "      <td>The guy did some bitching but I acted like i'd...</td>\n",
       "      <td>guy bitch act like interest buy someth els nex...</td>\n",
       "    </tr>\n",
       "    <tr>\n",
       "      <th>5573</th>\n",
       "      <td>ham</td>\n",
       "      <td>Rofl. Its true to its name</td>\n",
       "      <td>rofl true name</td>\n",
       "    </tr>\n",
       "  </tbody>\n",
       "</table>\n",
       "<p>5574 rows × 3 columns</p>\n",
       "</div>"
      ],
      "text/plain": [
       "     Labels                                              Texts  \\\n",
       "0       ham  Go until jurong point, crazy.. Available only ...   \n",
       "1       ham                      Ok lar... Joking wif u oni...   \n",
       "2      spam  Free entry in 2 a wkly comp to win FA Cup fina...   \n",
       "3       ham  U dun say so early hor... U c already then say...   \n",
       "4       ham  Nah I don't think he goes to usf, he lives aro...   \n",
       "...     ...                                                ...   \n",
       "5569   spam  This is the 2nd time we have tried 2 contact u...   \n",
       "5570    ham               Will ü b going to esplanade fr home?   \n",
       "5571    ham  Pity, * was in mood for that. So...any other s...   \n",
       "5572    ham  The guy did some bitching but I acted like i'd...   \n",
       "5573    ham                         Rofl. Its true to its name   \n",
       "\n",
       "                                            Clean texts  \n",
       "0     go jurong point crazi avail bugi n great world...  \n",
       "1                                 ok lar joke wif u oni  \n",
       "2     free entri wkli comp win fa cup final tkts st ...  \n",
       "3                   u dun say earli hor u c alreadi say  \n",
       "4                  nah think goe usf live around though  \n",
       "...                                                 ...  \n",
       "5569  nd time tri contact u u pound prize claim easi...  \n",
       "5570                              b go esplanad fr home  \n",
       "5571                                  piti mood suggest  \n",
       "5572  guy bitch act like interest buy someth els nex...  \n",
       "5573                                     rofl true name  \n",
       "\n",
       "[5574 rows x 3 columns]"
      ]
     },
     "metadata": {},
     "execution_count": 6
    }
   ],
   "metadata": {}
  },
  {
   "cell_type": "markdown",
   "source": [
    "### Vectorisation:\n",
    "The conventional process of dealing with Text data says that after cleaning the data, you can then proceed to Vectorisation: which is basically converting the text data into numerical data.\n",
    "Here is the link: \n",
    "https://scikit-learn.org/stable/modules/generated/sklearn.feature_extraction.text.CountVectorizer.html"
   ],
   "metadata": {}
  },
  {
   "cell_type": "code",
   "execution_count": 7,
   "source": [
    "# Labels to unique integer\n",
    "df['label_num'] = df.Labels.map({'ham':0, 'spam':1})\n",
    "df.head()\n",
    "\n",
    "# Define X and y\n",
    "X = df['Clean texts']\n",
    "y = df.label_num\n",
    "# print(X.shape)\n",
    "# print(y.shape)\n",
    "\n",
    "# Datasplit\n",
    "X_train, X_test, y_train, y_test = train_test_split(X, y, random_state=1)\n",
    "# print(X_train.shape)\n",
    "# print(X_test.shape)\n",
    "# print(y_train.shape)\n",
    "# print(y_test.shape)\n",
    "\n",
    "# Instantiate vectorizer\n",
    "vectorizer = CountVectorizer()\n",
    "# Document term matrix train data\n",
    "X_train_dtm = vectorizer.fit_transform(X_train)\n",
    "# Document term matrix test data (using fitted vocabulary from training data!)\n",
    "X_test_dtm = vectorizer.transform(X_test)\n",
    "X_train_dtm"
   ],
   "outputs": [
    {
     "output_type": "execute_result",
     "data": {
      "text/plain": [
       "<4180x5360 sparse matrix of type '<class 'numpy.int64'>'\n",
       "\twith 33613 stored elements in Compressed Sparse Row format>"
      ]
     },
     "metadata": {},
     "execution_count": 7
    }
   ],
   "metadata": {}
  },
  {
   "cell_type": "markdown",
   "source": [
    "### Models and tests"
   ],
   "metadata": {}
  },
  {
   "cell_type": "code",
   "execution_count": 8,
   "source": [
    "# Multinomial Naive Bayes, classifying with word counts \n",
    "mnb = MultinomialNB()\n",
    "# Logistic regression\n",
    "logreg = LogisticRegression(solver='liblinear')\n",
    "\n",
    "# Cross-validate (stratified k fold) scores each model\n",
    "scores_mnb = cross_val_score(mnb, X_train_dtm, y_train, cv=5)\n",
    "scores_logreg = cross_val_score(logreg, X_train_dtm, y_train, cv=5)\n",
    "\n",
    "print(\"mnb %0.2f accuracy with a standard deviation of %0.2f\" % (scores_mnb.mean(), scores_mnb.std()))\n",
    "print(\"logreg %0.2f accuracy with a standard deviation of %0.2f\" % (scores_logreg.mean(), scores_logreg.std()))\n",
    "\n",
    "pred_mnb = cross_val_predict(mnb, X_train_dtm, y_train, cv=5)\n",
    "pred_logreg = cross_val_predict(logreg, X_train_dtm, y_train, cv=5)\n",
    "\n",
    "print(classification_report(y_train, pred_mnb))\n",
    "ConfusionMatrixDisplay.from_predictions(y_train, pred_mnb)\n",
    "\n",
    "print(classification_report(y_train, pred_logreg))\n",
    "ConfusionMatrixDisplay.from_predictions(y_train, pred_logreg)"
   ],
   "outputs": [
    {
     "output_type": "stream",
     "name": "stdout",
     "text": [
      "mnb 0.97 accuracy with a standard deviation of 0.00\n",
      "logreg 0.98 accuracy with a standard deviation of 0.00\n",
      "              precision    recall  f1-score   support\n",
      "\n",
      "           0       0.99      0.98      0.99      3615\n",
      "           1       0.88      0.94      0.91       565\n",
      "\n",
      "    accuracy                           0.97      4180\n",
      "   macro avg       0.93      0.96      0.95      4180\n",
      "weighted avg       0.98      0.97      0.97      4180\n",
      "\n",
      "              precision    recall  f1-score   support\n",
      "\n",
      "           0       0.98      1.00      0.99      3615\n",
      "           1       0.98      0.86      0.92       565\n",
      "\n",
      "    accuracy                           0.98      4180\n",
      "   macro avg       0.98      0.93      0.95      4180\n",
      "weighted avg       0.98      0.98      0.98      4180\n",
      "\n"
     ]
    },
    {
     "output_type": "execute_result",
     "data": {
      "text/plain": [
       "<sklearn.metrics._plot.confusion_matrix.ConfusionMatrixDisplay at 0x7f851069edc0>"
      ]
     },
     "metadata": {},
     "execution_count": 8
    },
    {
     "output_type": "display_data",
     "data": {
      "image/png": "[encoded data removed]",
      "text/plain": [
       "<Figure size 432x288 with 2 Axes>"
      ]
     },
     "metadata": {
      "needs_background": "light"
     }
    },
    {
     "output_type": "display_data",
     "data": {
      "image/png": "[encoded data removed]",
      "text/plain": [
       "<Figure size 432x288 with 2 Axes>"
      ]
     },
     "metadata": {
      "needs_background": "light"
     }
    }
   ],
   "metadata": {}
  },
  {
   "cell_type": "code",
   "execution_count": 9,
   "source": [
    "# Final results with testing data\n",
    "\n",
    "# Fitting the models\n",
    "mnb.fit(X_train_dtm, y_train)\n",
    "logreg.fit(X_train_dtm, y_train)\n",
    "\n",
    "# Predictions\n",
    "mnb_pred = mnb.predict(X_test_dtm)\n",
    "logreg_pred = logreg.predict(X_test_dtm)\n",
    "\n",
    "print(mnb_pred.shape)\n",
    "print(y_test.shape)\n",
    "\n",
    "print(classification_report(y_test, mnb_pred))\n",
    "ConfusionMatrixDisplay.from_predictions(y_test, mnb_pred)\n",
    "\n",
    "print(classification_report(y_test, logreg_pred))\n",
    "ConfusionMatrixDisplay.from_predictions(y_test, logreg_pred)\n",
    "\n",
    "# ROC CURVES\n",
    "plot_roc_curve(mnb, X_test_dtm, y_test)\n",
    "plot_roc_curve(logreg, X_test_dtm, y_test)"
   ],
   "outputs": [
    {
     "output_type": "stream",
     "name": "stdout",
     "text": [
      "(1394,)\n",
      "(1394,)\n",
      "              precision    recall  f1-score   support\n",
      "\n",
      "           0       0.99      0.99      0.99      1212\n",
      "           1       0.95      0.95      0.95       182\n",
      "\n",
      "    accuracy                           0.99      1394\n",
      "   macro avg       0.97      0.97      0.97      1394\n",
      "weighted avg       0.99      0.99      0.99      1394\n",
      "\n",
      "              precision    recall  f1-score   support\n",
      "\n",
      "           0       0.98      1.00      0.99      1212\n",
      "           1       0.99      0.90      0.94       182\n",
      "\n",
      "    accuracy                           0.99      1394\n",
      "   macro avg       0.99      0.95      0.97      1394\n",
      "weighted avg       0.99      0.99      0.99      1394\n",
      "\n"
     ]
    },
    {
     "output_type": "stream",
     "name": "stderr",
     "text": [
      "/home/sanderg/.local/lib/python3.9/site-packages/sklearn/utils/deprecation.py:87: FutureWarning: Function plot_roc_curve is deprecated; Function `plot_roc_curve` is deprecated in 1.0 and will be removed in 1.2. Use one of the class methods: RocCurveDisplay.from_predictions or RocCurveDisplay.from_estimator.\n",
      "  warnings.warn(msg, category=FutureWarning)\n",
      "/home/sanderg/.local/lib/python3.9/site-packages/sklearn/utils/deprecation.py:87: FutureWarning: Function plot_roc_curve is deprecated; Function `plot_roc_curve` is deprecated in 1.0 and will be removed in 1.2. Use one of the class methods: RocCurveDisplay.from_predictions or RocCurveDisplay.from_estimator.\n",
      "  warnings.warn(msg, category=FutureWarning)\n"
     ]
    },
    {
     "output_type": "execute_result",
     "data": {
      "text/plain": [
       "<sklearn.metrics._plot.roc_curve.RocCurveDisplay at 0x7f84b5d9fa30>"
      ]
     },
     "metadata": {},
     "execution_count": 9
    },
    {
     "output_type": "display_data",
     "data": {
      "image/png": "[encoded data removed]",
      "text/plain": [
       "<Figure size 432x288 with 2 Axes>"
      ]
     },
     "metadata": {
      "needs_background": "light"
     }
    },
    {
     "output_type": "display_data",
     "data": {
      "image/png": "[encoded data removed]",
      "text/plain": [
       "<Figure size 432x288 with 2 Axes>"
      ]
     },
     "metadata": {
      "needs_background": "light"
     }
    },
    {
     "output_type": "display_data",
     "data": {
      "image/png": "[encoded data removed]",
      "text/plain": [
       "<Figure size 432x288 with 1 Axes>"
      ]
     },
     "metadata": {
      "needs_background": "light"
     }
    },
    {
     "output_type": "display_data",
     "data": {
      "image/png": "[encoded data removed]",
      "text/plain": [
       "<Figure size 432x288 with 1 Axes>"
      ]
     },
     "metadata": {
      "needs_background": "light"
     }
    }
   ],
   "metadata": {}
  }
 ],
 "metadata": {
  "interpreter": {
   "hash": "916dbcbb3f70747c44a77c7bcd40155683ae19c65e1c03b4aa3499c5328201f1"
  },
  "kernelspec": {
   "name": "python3",
   "display_name": "Python 3.9.7 64-bit"
  },
  "language_info": {
   "codemirror_mode": {
    "name": "ipython",
    "version": 3
   },
   "file_extension": ".py",
   "mimetype": "text/x-python",
   "name": "python",
   "nbconvert_exporter": "python",
   "pygments_lexer": "ipython3",
   "version": "3.9.7"
  },
  "orig_nbformat": 4
 },
 "nbformat": 4,
 "nbformat_minor": 2
}