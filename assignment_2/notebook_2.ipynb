{
 "cells": [
  {
   "cell_type": "markdown",
   "source": [
    "# Predict Titanic Survival\n",
    "\n",
    "The main goal is to pre-process the data as good as you can, select the right techniques and obtain a good score. The main idea behind the competition is to come\n",
    "up with a model to predict whether someone survived the Titanic disaster or not based on a training set of people for whom you know whether they survived or not."
   ],
   "metadata": {}
  },
  {
   "cell_type": "markdown",
   "source": [
    "# Exploration phase"
   ],
   "metadata": {}
  },
  {
   "cell_type": "code",
   "execution_count": 1,
   "source": [
    "import pandas as pd\n",
    "import numpy as np\n",
    "import matplotlib.pyplot as plt\n",
    "from sklearn.preprocessing import LabelEncoder\n",
    "from sklearn import tree\n",
    "from sklearn.naive_bayes import CategoricalNB\n",
    "from sklearn.model_selection import cross_val_score\n",
    "from sklearn.model_selection import cross_val_predict\n",
    "from sklearn.metrics import confusion_matrix\n",
    "from sklearn.model_selection import StratifiedKFold\n",
    "from sklearn.metrics import accuracy_score, classification_report\n",
    "from sklearn.metrics import ConfusionMatrixDisplay\n",
    "from imblearn.over_sampling import RandomOverSampler, SMOTE, ADASYN"
   ],
   "outputs": [],
   "metadata": {}
  },
  {
   "cell_type": "code",
   "execution_count": 2,
   "source": [
    "# Initialize dataframe\n",
    "df = pd.read_csv('./data/train.csv')\n",
    "# Show first 5 rows\n",
    "df.head()\n",
    "# Survived is target label, 0 = deceased and 1 = survived"
   ],
   "outputs": [
    {
     "output_type": "execute_result",
     "data": {
      "text/html": [
       "<div>\n",
       "<style scoped>\n",
       "    .dataframe tbody tr th:only-of-type {\n",
       "        vertical-align: middle;\n",
       "    }\n",
       "\n",
       "    .dataframe tbody tr th {\n",
       "        vertical-align: top;\n",
       "    }\n",
       "\n",
       "    .dataframe thead th {\n",
       "        text-align: right;\n",
       "    }\n",
       "</style>\n",
       "<table border=\"1\" class=\"dataframe\">\n",
       "  <thead>\n",
       "    <tr style=\"text-align: right;\">\n",
       "      <th></th>\n",
       "      <th>PassengerId</th>\n",
       "      <th>Survived</th>\n",
       "      <th>Pclass</th>\n",
       "      <th>Name</th>\n",
       "      <th>Sex</th>\n",
       "      <th>Age</th>\n",
       "      <th>SibSp</th>\n",
       "      <th>Parch</th>\n",
       "      <th>Ticket</th>\n",
       "      <th>Fare</th>\n",
       "      <th>Cabin</th>\n",
       "      <th>Embarked</th>\n",
       "    </tr>\n",
       "  </thead>\n",
       "  <tbody>\n",
       "    <tr>\n",
       "      <th>0</th>\n",
       "      <td>1</td>\n",
       "      <td>0</td>\n",
       "      <td>3</td>\n",
       "      <td>Braund, Mr. Owen Harris</td>\n",
       "      <td>male</td>\n",
       "      <td>22.0</td>\n",
       "      <td>1</td>\n",
       "      <td>0</td>\n",
       "      <td>A/5 21171</td>\n",
       "      <td>7.2500</td>\n",
       "      <td>NaN</td>\n",
       "      <td>S</td>\n",
       "    </tr>\n",
       "    <tr>\n",
       "      <th>1</th>\n",
       "      <td>2</td>\n",
       "      <td>1</td>\n",
       "      <td>1</td>\n",
       "      <td>Cumings, Mrs. John Bradley (Florence Briggs Th...</td>\n",
       "      <td>female</td>\n",
       "      <td>38.0</td>\n",
       "      <td>1</td>\n",
       "      <td>0</td>\n",
       "      <td>PC 17599</td>\n",
       "      <td>71.2833</td>\n",
       "      <td>C85</td>\n",
       "      <td>C</td>\n",
       "    </tr>\n",
       "    <tr>\n",
       "      <th>2</th>\n",
       "      <td>3</td>\n",
       "      <td>1</td>\n",
       "      <td>3</td>\n",
       "      <td>Heikkinen, Miss. Laina</td>\n",
       "      <td>female</td>\n",
       "      <td>26.0</td>\n",
       "      <td>0</td>\n",
       "      <td>0</td>\n",
       "      <td>STON/O2. 3101282</td>\n",
       "      <td>7.9250</td>\n",
       "      <td>NaN</td>\n",
       "      <td>S</td>\n",
       "    </tr>\n",
       "    <tr>\n",
       "      <th>3</th>\n",
       "      <td>4</td>\n",
       "      <td>1</td>\n",
       "      <td>1</td>\n",
       "      <td>Futrelle, Mrs. Jacques Heath (Lily May Peel)</td>\n",
       "      <td>female</td>\n",
       "      <td>35.0</td>\n",
       "      <td>1</td>\n",
       "      <td>0</td>\n",
       "      <td>113803</td>\n",
       "      <td>53.1000</td>\n",
       "      <td>C123</td>\n",
       "      <td>S</td>\n",
       "    </tr>\n",
       "    <tr>\n",
       "      <th>4</th>\n",
       "      <td>5</td>\n",
       "      <td>0</td>\n",
       "      <td>3</td>\n",
       "      <td>Allen, Mr. William Henry</td>\n",
       "      <td>male</td>\n",
       "      <td>35.0</td>\n",
       "      <td>0</td>\n",
       "      <td>0</td>\n",
       "      <td>373450</td>\n",
       "      <td>8.0500</td>\n",
       "      <td>NaN</td>\n",
       "      <td>S</td>\n",
       "    </tr>\n",
       "  </tbody>\n",
       "</table>\n",
       "</div>"
      ],
      "text/plain": [
       "   PassengerId  Survived  Pclass  \\\n",
       "0            1         0       3   \n",
       "1            2         1       1   \n",
       "2            3         1       3   \n",
       "3            4         1       1   \n",
       "4            5         0       3   \n",
       "\n",
       "                                                Name     Sex   Age  SibSp  \\\n",
       "0                            Braund, Mr. Owen Harris    male  22.0      1   \n",
       "1  Cumings, Mrs. John Bradley (Florence Briggs Th...  female  38.0      1   \n",
       "2                             Heikkinen, Miss. Laina  female  26.0      0   \n",
       "3       Futrelle, Mrs. Jacques Heath (Lily May Peel)  female  35.0      1   \n",
       "4                           Allen, Mr. William Henry    male  35.0      0   \n",
       "\n",
       "   Parch            Ticket     Fare Cabin Embarked  \n",
       "0      0         A/5 21171   7.2500   NaN        S  \n",
       "1      0          PC 17599  71.2833   C85        C  \n",
       "2      0  STON/O2. 3101282   7.9250   NaN        S  \n",
       "3      0            113803  53.1000  C123        S  \n",
       "4      0            373450   8.0500   NaN        S  "
      ]
     },
     "metadata": {},
     "execution_count": 2
    }
   ],
   "metadata": {}
  },
  {
   "cell_type": "code",
   "execution_count": 3,
   "source": [
    "print('Total rows: {}'.format(df.shape[0]))"
   ],
   "outputs": [
    {
     "output_type": "stream",
     "name": "stdout",
     "text": [
      "Total rows: 891\n"
     ]
    }
   ],
   "metadata": {}
  },
  {
   "cell_type": "code",
   "execution_count": 4,
   "source": [
    "print('Missing values:')\n",
    "print(df.isna().sum())"
   ],
   "outputs": [
    {
     "output_type": "stream",
     "name": "stdout",
     "text": [
      "Missing values:\n",
      "PassengerId      0\n",
      "Survived         0\n",
      "Pclass           0\n",
      "Name             0\n",
      "Sex              0\n",
      "Age            177\n",
      "SibSp            0\n",
      "Parch            0\n",
      "Ticket           0\n",
      "Fare             0\n",
      "Cabin          687\n",
      "Embarked         2\n",
      "dtype: int64\n"
     ]
    }
   ],
   "metadata": {}
  },
  {
   "cell_type": "code",
   "execution_count": 5,
   "source": [
    "print('Unique values per feature:')\n",
    "print(df.nunique())"
   ],
   "outputs": [
    {
     "output_type": "stream",
     "name": "stdout",
     "text": [
      "Unique values per feature:\n",
      "PassengerId    891\n",
      "Survived         2\n",
      "Pclass           3\n",
      "Name           891\n",
      "Sex              2\n",
      "Age             88\n",
      "SibSp            7\n",
      "Parch            7\n",
      "Ticket         681\n",
      "Fare           248\n",
      "Cabin          147\n",
      "Embarked         3\n",
      "dtype: int64\n"
     ]
    }
   ],
   "metadata": {}
  },
  {
   "cell_type": "code",
   "execution_count": 6,
   "source": [
    "# Data cleanup (should be seperate function eventually)\n",
    "\n",
    "def substrings_in_string(big_string, substrings):\n",
    "    for substring in substrings:\n",
    "        if big_string.find(substring) != -1:\n",
    "            return substring\n",
    "    print(big_string)\n",
    "    return np.nan\n",
    "\n",
    "def data_cleanup(df):\n",
    "    # Drop PassengerID\n",
    "    df = df.drop(['PassengerId'],axis=1)\n",
    "\n",
    "    # name turn to title\n",
    "    # coded with help of https://triangleinequality.wordpress.com/2013/09/08/basic-feature-engineering-with-the-titanic-data/\n",
    "    # ['Mr' 'Mrs' 'Miss' 'Master' 'Don' 'Rev' 'Dr' 'Mme' 'Ms' 'Major' 'Mlle', 'Col' 'Capt' 'Countess' 'Jonkheer']\n",
    "    # [11 12  8  7  3 14  4 10 13  6  9  1  0  2  5]\n",
    "    title_list=['Mrs', 'Mr', 'Master', 'Miss', 'Major', 'Rev',\n",
    "                        'Dr', 'Ms', 'Mlle','Col', 'Capt', 'Mme', 'Countess',\n",
    "                        'Don', 'Jonkheer']\n",
    "    df['Title']=df['Name'].map(lambda x: substrings_in_string(x, title_list))\n",
    "    # Title will be turned into unique label integer\n",
    "    df['Title'] = LabelEncoder().fit_transform(df['Title'])\n",
    "    # Name will be dropped \n",
    "    df = df.drop(['Name'],axis=1)\n",
    "\n",
    "    # Sex should be turned into unique integer label, 0 or 1\n",
    "    # Sex, 0 = female and 1 = male\n",
    "    df['Sex'] = LabelEncoder().fit_transform(df['Sex'])\n",
    "\n",
    "    # TODO Age in years \n",
    "        # divide each into age categories?\n",
    "        # 177 missing values, perhaps we can predict the missing values with correlation\n",
    "\n",
    "    # ticket (Ticket number) not sure if this is very informative? Suggestion to drop it (Pclass and fare are more informative)\n",
    "    df = df.drop(['Ticket'],axis=1)\n",
    "\n",
    "    # TODO fare, could be turned into fare categories\n",
    "\n",
    "    # cabin (number), 687 missing values (77%). I suggest leaving this feature out, due to its absence in training set (Pclass and fare might depict what kind of cabin better)\n",
    "    df = df.drop(['Cabin'],axis=1)\n",
    "\n",
    "    # embarked should be turned into unique integer label, 0 = C (Cherbourgh), 1 = Q (Queenstown), 2 = S (Southampton)\n",
    "    df.Embarked.fillna('C', inplace=True)\n",
    "    df['Embarked'] = LabelEncoder().fit_transform(df['Embarked'])\n",
    "    return df\n",
    "\n",
    "df = data_cleanup(df)\n",
    "df.head()"
   ],
   "outputs": [
    {
     "output_type": "execute_result",
     "data": {
      "text/html": [
       "<div>\n",
       "<style scoped>\n",
       "    .dataframe tbody tr th:only-of-type {\n",
       "        vertical-align: middle;\n",
       "    }\n",
       "\n",
       "    .dataframe tbody tr th {\n",
       "        vertical-align: top;\n",
       "    }\n",
       "\n",
       "    .dataframe thead th {\n",
       "        text-align: right;\n",
       "    }\n",
       "</style>\n",
       "<table border=\"1\" class=\"dataframe\">\n",
       "  <thead>\n",
       "    <tr style=\"text-align: right;\">\n",
       "      <th></th>\n",
       "      <th>Survived</th>\n",
       "      <th>Pclass</th>\n",
       "      <th>Sex</th>\n",
       "      <th>Age</th>\n",
       "      <th>SibSp</th>\n",
       "      <th>Parch</th>\n",
       "      <th>Fare</th>\n",
       "      <th>Embarked</th>\n",
       "      <th>Title</th>\n",
       "    </tr>\n",
       "  </thead>\n",
       "  <tbody>\n",
       "    <tr>\n",
       "      <th>0</th>\n",
       "      <td>0</td>\n",
       "      <td>3</td>\n",
       "      <td>1</td>\n",
       "      <td>22.0</td>\n",
       "      <td>1</td>\n",
       "      <td>0</td>\n",
       "      <td>7.2500</td>\n",
       "      <td>2</td>\n",
       "      <td>11</td>\n",
       "    </tr>\n",
       "    <tr>\n",
       "      <th>1</th>\n",
       "      <td>1</td>\n",
       "      <td>1</td>\n",
       "      <td>0</td>\n",
       "      <td>38.0</td>\n",
       "      <td>1</td>\n",
       "      <td>0</td>\n",
       "      <td>71.2833</td>\n",
       "      <td>0</td>\n",
       "      <td>12</td>\n",
       "    </tr>\n",
       "    <tr>\n",
       "      <th>2</th>\n",
       "      <td>1</td>\n",
       "      <td>3</td>\n",
       "      <td>0</td>\n",
       "      <td>26.0</td>\n",
       "      <td>0</td>\n",
       "      <td>0</td>\n",
       "      <td>7.9250</td>\n",
       "      <td>2</td>\n",
       "      <td>8</td>\n",
       "    </tr>\n",
       "    <tr>\n",
       "      <th>3</th>\n",
       "      <td>1</td>\n",
       "      <td>1</td>\n",
       "      <td>0</td>\n",
       "      <td>35.0</td>\n",
       "      <td>1</td>\n",
       "      <td>0</td>\n",
       "      <td>53.1000</td>\n",
       "      <td>2</td>\n",
       "      <td>12</td>\n",
       "    </tr>\n",
       "    <tr>\n",
       "      <th>4</th>\n",
       "      <td>0</td>\n",
       "      <td>3</td>\n",
       "      <td>1</td>\n",
       "      <td>35.0</td>\n",
       "      <td>0</td>\n",
       "      <td>0</td>\n",
       "      <td>8.0500</td>\n",
       "      <td>2</td>\n",
       "      <td>11</td>\n",
       "    </tr>\n",
       "  </tbody>\n",
       "</table>\n",
       "</div>"
      ],
      "text/plain": [
       "   Survived  Pclass  Sex   Age  SibSp  Parch     Fare  Embarked  Title\n",
       "0         0       3    1  22.0      1      0   7.2500         2     11\n",
       "1         1       1    0  38.0      1      0  71.2833         0     12\n",
       "2         1       3    0  26.0      0      0   7.9250         2      8\n",
       "3         1       1    0  35.0      1      0  53.1000         2     12\n",
       "4         0       3    1  35.0      0      0   8.0500         2     11"
      ]
     },
     "metadata": {},
     "execution_count": 6
    }
   ],
   "metadata": {}
  },
  {
   "cell_type": "code",
   "execution_count": 7,
   "source": [
    "# Print amount males and females\n",
    "print(df.Sex.value_counts())\n",
    "# Sex, 0 = female and 1 = male"
   ],
   "outputs": [
    {
     "output_type": "stream",
     "name": "stdout",
     "text": [
      "1    577\n",
      "0    314\n",
      "Name: Sex, dtype: int64\n"
     ]
    }
   ],
   "metadata": {}
  },
  {
   "cell_type": "code",
   "execution_count": 8,
   "source": [
    "# Relation male/female and survived\n",
    "print(df.groupby('Sex').Survived.value_counts())\n",
    "df.groupby('Sex').Survived.mean().plot(kind='bar')\n",
    "# Survived is target label, 0 = deceased and 1 = survived\n",
    "# Sex, 0 = female and 1 = male"
   ],
   "outputs": [
    {
     "output_type": "stream",
     "name": "stdout",
     "text": [
      "Sex  Survived\n",
      "0    1           233\n",
      "     0            81\n",
      "1    0           468\n",
      "     1           109\n",
      "Name: Survived, dtype: int64\n"
     ]
    },
    {
     "output_type": "execute_result",
     "data": {
      "text/plain": [
       "<AxesSubplot:xlabel='Sex'>"
      ]
     },
     "metadata": {},
     "execution_count": 8
    },
    {
     "output_type": "display_data",
     "data": {
      "image/png": "[encoded data removed]",
      "text/plain": [
       "<Figure size 432x288 with 1 Axes>"
      ]
     },
     "metadata": {
      "needs_background": "light"
     }
    }
   ],
   "metadata": {}
  },
  {
   "cell_type": "code",
   "execution_count": 9,
   "source": [
    "# Plot fare\n",
    "print(df['Fare'].describe())\n",
    "\n",
    "print(df.loc[df['Fare'] == 0])\n",
    "print(df.loc[df['Fare'] == 0].size)"
   ],
   "outputs": [
    {
     "output_type": "stream",
     "name": "stdout",
     "text": [
      "count    891.000000\n",
      "mean      32.204208\n",
      "std       49.693429\n",
      "min        0.000000\n",
      "25%        7.910400\n",
      "50%       14.454200\n",
      "75%       31.000000\n",
      "max      512.329200\n",
      "Name: Fare, dtype: float64\n",
      "     Survived  Pclass  Sex   Age  SibSp  Parch  Fare  Embarked  Title\n",
      "179         0       3    1  36.0      0      0   0.0         2     11\n",
      "263         0       1    1  40.0      0      0   0.0         2     11\n",
      "271         1       3    1  25.0      0      0   0.0         2     11\n",
      "277         0       2    1   NaN      0      0   0.0         2     11\n",
      "302         0       3    1  19.0      0      0   0.0         2     11\n",
      "413         0       2    1   NaN      0      0   0.0         2     11\n",
      "466         0       2    1   NaN      0      0   0.0         2     11\n",
      "481         0       2    1   NaN      0      0   0.0         2     11\n",
      "597         0       3    1  49.0      0      0   0.0         2     11\n",
      "633         0       1    1   NaN      0      0   0.0         2     11\n",
      "674         0       2    1   NaN      0      0   0.0         2     11\n",
      "732         0       2    1   NaN      0      0   0.0         2     11\n",
      "806         0       1    1  39.0      0      0   0.0         2     11\n",
      "815         0       1    1   NaN      0      0   0.0         2     11\n",
      "822         0       1    1  38.0      0      0   0.0         2      5\n",
      "135\n"
     ]
    }
   ],
   "metadata": {}
  },
  {
   "cell_type": "code",
   "execution_count": 10,
   "source": [
    "# AGE PREDICTOR EXPERIMENT\n",
    "df_1 = pd.read_csv('./data/train.csv')\n",
    "df_2 = pd.read_csv('./data/test.csv')\n",
    "\n",
    "# Ready df_1\n",
    "df_1 = df_1.loc[df_1.Age.notnull()]\n",
    "df_1.drop(['Survived'],axis=1, inplace=True)\n",
    "df_1 = data_cleanup(df_1)\n",
    "print(df_1.shape[0])\n",
    "# Ready df_2\n",
    "df_2 = df_2.loc[df_2.Age.notnull()]\n",
    "df_2 = df_2.loc[df_2.Fare.notnull()]\n",
    "df_2 = data_cleanup(df_2)\n",
    "print(df_2.shape[0])\n",
    "\n",
    "new_df = pd.concat([df_1, df_2], axis=0)\n",
    "new_df.drop(['Fare'],axis=1, inplace=True)\n",
    "\n",
    "print(new_df.head())\n",
    "print(new_df.shape[0])\n",
    "\n",
    "print('Unique values per feature:')\n",
    "print(new_df.nunique())\n"
   ],
   "outputs": [
    {
     "output_type": "stream",
     "name": "stdout",
     "text": [
      "714\n",
      "331\n",
      "   Pclass  Sex   Age  SibSp  Parch  Embarked  Title\n",
      "0       3    1  22.0      1      0         2     11\n",
      "1       1    0  38.0      1      0         0     12\n",
      "2       3    0  26.0      0      0         2      8\n",
      "3       1    0  35.0      1      0         2     12\n",
      "4       3    1  35.0      0      0         2     11\n",
      "1045\n",
      "Unique values per feature:\n",
      "Pclass       3\n",
      "Sex          2\n",
      "Age         97\n",
      "SibSp        7\n",
      "Parch        7\n",
      "Embarked     3\n",
      "Title       15\n",
      "dtype: int64\n"
     ]
    }
   ],
   "metadata": {}
  },
  {
   "cell_type": "code",
   "execution_count": 11,
   "source": [
    "print(new_df['Age'].describe())\n",
    "\n",
    "# Age groups, need to figure out class balance \n",
    "bins= [0, 10, 20, 48, 110]\n",
    "labels = ['Child','Teen','Adult', 'Senior']\n",
    "new_df['AgeGroup'] = pd.cut(new_df['Age'], bins=bins, labels=labels, right=False)\n",
    "\n",
    "new_df['AgeGroup'].value_counts().plot(kind='bar')"
   ],
   "outputs": [
    {
     "output_type": "stream",
     "name": "stdout",
     "text": [
      "count    1045.000000\n",
      "mean       29.851837\n",
      "std        14.389194\n",
      "min         0.170000\n",
      "25%        21.000000\n",
      "50%        28.000000\n",
      "75%        39.000000\n",
      "max        80.000000\n",
      "Name: Age, dtype: float64\n"
     ]
    },
    {
     "output_type": "execute_result",
     "data": {
      "text/plain": [
       "<AxesSubplot:>"
      ]
     },
     "metadata": {},
     "execution_count": 11
    },
    {
     "output_type": "display_data",
     "data": {
      "image/png": "[encoded data removed]",
      "text/plain": [
       "<Figure size 432x288 with 1 Axes>"
      ]
     },
     "metadata": {
      "needs_background": "light"
     }
    }
   ],
   "metadata": {}
  },
  {
   "cell_type": "code",
   "execution_count": 12,
   "source": [
    "new_df.head()"
   ],
   "outputs": [
    {
     "output_type": "execute_result",
     "data": {
      "text/html": [
       "<div>\n",
       "<style scoped>\n",
       "    .dataframe tbody tr th:only-of-type {\n",
       "        vertical-align: middle;\n",
       "    }\n",
       "\n",
       "    .dataframe tbody tr th {\n",
       "        vertical-align: top;\n",
       "    }\n",
       "\n",
       "    .dataframe thead th {\n",
       "        text-align: right;\n",
       "    }\n",
       "</style>\n",
       "<table border=\"1\" class=\"dataframe\">\n",
       "  <thead>\n",
       "    <tr style=\"text-align: right;\">\n",
       "      <th></th>\n",
       "      <th>Pclass</th>\n",
       "      <th>Sex</th>\n",
       "      <th>Age</th>\n",
       "      <th>SibSp</th>\n",
       "      <th>Parch</th>\n",
       "      <th>Embarked</th>\n",
       "      <th>Title</th>\n",
       "      <th>AgeGroup</th>\n",
       "    </tr>\n",
       "  </thead>\n",
       "  <tbody>\n",
       "    <tr>\n",
       "      <th>0</th>\n",
       "      <td>3</td>\n",
       "      <td>1</td>\n",
       "      <td>22.0</td>\n",
       "      <td>1</td>\n",
       "      <td>0</td>\n",
       "      <td>2</td>\n",
       "      <td>11</td>\n",
       "      <td>Adult</td>\n",
       "    </tr>\n",
       "    <tr>\n",
       "      <th>1</th>\n",
       "      <td>1</td>\n",
       "      <td>0</td>\n",
       "      <td>38.0</td>\n",
       "      <td>1</td>\n",
       "      <td>0</td>\n",
       "      <td>0</td>\n",
       "      <td>12</td>\n",
       "      <td>Adult</td>\n",
       "    </tr>\n",
       "    <tr>\n",
       "      <th>2</th>\n",
       "      <td>3</td>\n",
       "      <td>0</td>\n",
       "      <td>26.0</td>\n",
       "      <td>0</td>\n",
       "      <td>0</td>\n",
       "      <td>2</td>\n",
       "      <td>8</td>\n",
       "      <td>Adult</td>\n",
       "    </tr>\n",
       "    <tr>\n",
       "      <th>3</th>\n",
       "      <td>1</td>\n",
       "      <td>0</td>\n",
       "      <td>35.0</td>\n",
       "      <td>1</td>\n",
       "      <td>0</td>\n",
       "      <td>2</td>\n",
       "      <td>12</td>\n",
       "      <td>Adult</td>\n",
       "    </tr>\n",
       "    <tr>\n",
       "      <th>4</th>\n",
       "      <td>3</td>\n",
       "      <td>1</td>\n",
       "      <td>35.0</td>\n",
       "      <td>0</td>\n",
       "      <td>0</td>\n",
       "      <td>2</td>\n",
       "      <td>11</td>\n",
       "      <td>Adult</td>\n",
       "    </tr>\n",
       "  </tbody>\n",
       "</table>\n",
       "</div>"
      ],
      "text/plain": [
       "   Pclass  Sex   Age  SibSp  Parch  Embarked  Title AgeGroup\n",
       "0       3    1  22.0      1      0         2     11    Adult\n",
       "1       1    0  38.0      1      0         0     12    Adult\n",
       "2       3    0  26.0      0      0         2      8    Adult\n",
       "3       1    0  35.0      1      0         2     12    Adult\n",
       "4       3    1  35.0      0      0         2     11    Adult"
      ]
     },
     "metadata": {},
     "execution_count": 12
    }
   ],
   "metadata": {}
  },
  {
   "cell_type": "code",
   "execution_count": 13,
   "source": [
    "# Evaluating two models, CategoricalNaiveBayes and CategoricalDecisionTree\n",
    "\n",
    "# First drop age\n",
    "new_df.drop(['Age'],axis=1, inplace=True)\n",
    "# Turn AgeGroup into unique label integer\n",
    "print(new_df['AgeGroup'].unique())\n",
    "new_df['AgeGroup'] = LabelEncoder().fit_transform(new_df['AgeGroup'])\n",
    "print(new_df['AgeGroup'].unique())\n",
    "# Double check df\n",
    "print(new_df.head())\n",
    "\n",
    "# Preparing data \n",
    "X_exp = new_df.iloc[:,0:6] \n",
    "y_exp = new_df.iloc[:, 6]\n",
    "X_exp.head(), y_exp.head()\n",
    "\n",
    "# To counteract the class imbalance\n",
    "\n",
    "# Random oversampler\n",
    "# ros = RandomOverSampler(random_state=0)\n",
    "# X_exp, y_exp = ros.fit_resample(X_exp, y_exp)\n",
    "# SMOTE oversampler\n",
    "smote = SMOTE()\n",
    "X_exp, y_exp = smote.fit_resample(X_exp, y_exp)\n",
    "\n",
    "# Initialize models\n",
    "dtc_e = tree.DecisionTreeClassifier(criterion='entropy')\n",
    "dtc_g = tree.DecisionTreeClassifier(criterion='gini')\n",
    "cnb = CategoricalNB(min_categories=X_exp.nunique() + 2)\n"
   ],
   "outputs": [
    {
     "output_type": "stream",
     "name": "stdout",
     "text": [
      "['Adult', 'Senior', 'Child', 'Teen']\n",
      "Categories (4, object): ['Child' < 'Teen' < 'Adult' < 'Senior']\n",
      "[0 2 1 3]\n",
      "   Pclass  Sex  SibSp  Parch  Embarked  Title  AgeGroup\n",
      "0       3    1      1      0         2     11         0\n",
      "1       1    0      1      0         0     12         0\n",
      "2       3    0      0      0         2      8         0\n",
      "3       1    0      1      0         2     12         0\n",
      "4       3    1      0      0         2     11         0\n"
     ]
    }
   ],
   "metadata": {}
  },
  {
   "cell_type": "code",
   "execution_count": 14,
   "source": [
    "# Cross-validate (stratified k fold) scores each model\n",
    "scores_dtc_e = cross_val_score(dtc_e, X_exp, y_exp, cv=5)\n",
    "scores_dtc_g = cross_val_score(dtc_g, X_exp, y_exp, cv=5)\n",
    "scores_cnb = cross_val_score(cnb, X_exp, y_exp, cv=5)\n",
    "\n",
    "print(\"dtc_e %0.2f accuracy with a standard deviation of %0.2f\" % (scores_dtc_e.mean(), scores_dtc_e.std()))\n",
    "print(\"dtc_g %0.2f accuracy with a standard deviation of %0.2f\" % (scores_dtc_g.mean(), scores_dtc_g.std()))\n",
    "print(\"cnb %0.2f accuracy with a standard deviation of %0.2f\" % (scores_cnb.mean(), scores_cnb.std()))\n",
    "\n",
    "pred_dtc_e = cross_val_predict(dtc_e, X_exp, y_exp, cv=5)\n",
    "pred_dtc_g = cross_val_predict(dtc_g, X_exp, y_exp, cv=5)\n",
    "pred_cnb = cross_val_predict(cnb, X_exp, y_exp, cv=5)\n",
    "\n",
    "print(classification_report(y_exp, pred_dtc_e))\n",
    "ConfusionMatrixDisplay.from_predictions(y_exp, pred_dtc_e)\n",
    "\n",
    "print(classification_report(y_exp, pred_dtc_g))\n",
    "ConfusionMatrixDisplay.from_predictions(y_exp, pred_dtc_g)\n",
    "\n",
    "print(classification_report(y_exp, pred_cnb))\n",
    "ConfusionMatrixDisplay.from_predictions(y_exp, pred_cnb)\n"
   ],
   "outputs": [
    {
     "output_type": "stream",
     "name": "stdout",
     "text": [
      "dtc_e 0.68 accuracy with a standard deviation of 0.02\n",
      "dtc_g 0.68 accuracy with a standard deviation of 0.02\n",
      "cnb 0.61 accuracy with a standard deviation of 0.03\n",
      "              precision    recall  f1-score   support\n",
      "\n",
      "           0       0.50      0.50      0.50       688\n",
      "           1       0.93      0.95      0.94       688\n",
      "           2       0.66      0.79      0.72       688\n",
      "           3       0.62      0.49      0.55       688\n",
      "\n",
      "    accuracy                           0.68      2752\n",
      "   macro avg       0.68      0.68      0.68      2752\n",
      "weighted avg       0.68      0.68      0.68      2752\n",
      "\n",
      "              precision    recall  f1-score   support\n",
      "\n",
      "           0       0.50      0.50      0.50       688\n",
      "           1       0.93      0.96      0.94       688\n",
      "           2       0.66      0.78      0.71       688\n",
      "           3       0.63      0.49      0.55       688\n",
      "\n",
      "    accuracy                           0.68      2752\n",
      "   macro avg       0.68      0.68      0.68      2752\n",
      "weighted avg       0.68      0.68      0.68      2752\n",
      "\n",
      "              precision    recall  f1-score   support\n",
      "\n",
      "           0       0.42      0.45      0.44       688\n",
      "           1       0.84      0.98      0.91       688\n",
      "           2       0.61      0.69      0.65       688\n",
      "           3       0.52      0.33      0.41       688\n",
      "\n",
      "    accuracy                           0.61      2752\n",
      "   macro avg       0.60      0.61      0.60      2752\n",
      "weighted avg       0.60      0.61      0.60      2752\n",
      "\n"
     ]
    },
    {
     "output_type": "execute_result",
     "data": {
      "text/plain": [
       "<sklearn.metrics._plot.confusion_matrix.ConfusionMatrixDisplay at 0x7fe8f1196310>"
      ]
     },
     "metadata": {},
     "execution_count": 14
    },
    {
     "output_type": "display_data",
     "data": {
      "image/png": "[encoded data removed]",
      "text/plain": [
       "<Figure size 432x288 with 2 Axes>"
      ]
     },
     "metadata": {
      "needs_background": "light"
     }
    },
    {
     "output_type": "display_data",
     "data": {
      "image/png": "[encoded data removed]",
      "text/plain": [
       "<Figure size 432x288 with 2 Axes>"
      ]
     },
     "metadata": {
      "needs_background": "light"
     }
    },
    {
     "output_type": "display_data",
     "data": {
      "image/png": "[encoded data removed]",
      "text/plain": [
       "<Figure size 432x288 with 2 Axes>"
      ]
     },
     "metadata": {
      "needs_background": "light"
     }
    }
   ],
   "metadata": {}
  },
  {
   "cell_type": "code",
   "execution_count": 15,
   "source": [
    "# So what we can do is\n",
    "    # Create dataset using the simple way to calculate/guess ages \n",
    "    # Create dataset using the DecisionTree (Gini) to guess ages\n",
    "\n",
    "    # Split train into train and test\n",
    "    # See which dataset performs the best according to test (of train)"
   ],
   "outputs": [],
   "metadata": {}
  }
 ],
 "metadata": {
  "orig_nbformat": 4,
  "language_info": {
   "name": "python",
   "version": "3.9.7",
   "mimetype": "text/x-python",
   "codemirror_mode": {
    "name": "ipython",
    "version": 3
   },
   "pygments_lexer": "ipython3",
   "nbconvert_exporter": "python",
   "file_extension": ".py"
  },
  "kernelspec": {
   "name": "python3",
   "display_name": "Python 3.9.7 64-bit"
  },
  "interpreter": {
   "hash": "916dbcbb3f70747c44a77c7bcd40155683ae19c65e1c03b4aa3499c5328201f1"
  }
 },
 "nbformat": 4,
 "nbformat_minor": 2
}