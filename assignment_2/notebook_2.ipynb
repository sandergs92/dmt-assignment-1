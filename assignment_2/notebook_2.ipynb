{
 "cells": [
  {
   "cell_type": "markdown",
   "metadata": {},
   "source": [
    "# Predict Titanic Survival\n",
    "\n",
    "The main goal is to pre-process the data as good as you can, select the right techniques and obtain a good score. The main idea behind the competition is to come\n",
    "up with a model to predict whether someone survived the Titanic disaster or not based on a training set of people for whom you know whether they survived or not."
   ]
  },
  {
   "cell_type": "markdown",
   "metadata": {},
   "source": [
    "# Exploration phase"
   ]
  },
  {
   "cell_type": "code",
   "execution_count": 3,
   "metadata": {},
   "outputs": [],
   "source": [
    "import pandas as pd\n",
    "import numpy as np\n",
    "import matplotlib.pyplot as plt\n",
    "import seaborn as sns\n",
    "from sklearn.preprocessing import LabelEncoder\n",
    "from sklearn import tree\n",
    "from sklearn.naive_bayes import CategoricalNB\n",
    "from sklearn.model_selection import cross_val_score\n",
    "from sklearn.model_selection import cross_val_predict\n",
    "from sklearn.metrics import confusion_matrix\n",
    "from sklearn.model_selection import StratifiedKFold\n",
    "from sklearn.metrics import accuracy_score, classification_report\n",
    "from sklearn.metrics import ConfusionMatrixDisplay\n",
    "from imblearn.over_sampling import RandomOverSampler, SMOTE, ADASYN\n",
    "from sklearn.ensemble import RandomForestClassifier\n",
    "from sklearn.linear_model import SGDClassifier\n",
    "from sklearn.naive_bayes import GaussianNB\n",
    "from sklearn.model_selection import train_test_split"
   ]
  },
  {
   "cell_type": "code",
   "execution_count": 4,
   "metadata": {},
   "outputs": [
    {
     "data": {
      "text/html": [
       "<div>\n",
       "<style scoped>\n",
       "    .dataframe tbody tr th:only-of-type {\n",
       "        vertical-align: middle;\n",
       "    }\n",
       "\n",
       "    .dataframe tbody tr th {\n",
       "        vertical-align: top;\n",
       "    }\n",
       "\n",
       "    .dataframe thead th {\n",
       "        text-align: right;\n",
       "    }\n",
       "</style>\n",
       "<table border=\"1\" class=\"dataframe\">\n",
       "  <thead>\n",
       "    <tr style=\"text-align: right;\">\n",
       "      <th></th>\n",
       "      <th>PassengerId</th>\n",
       "      <th>Survived</th>\n",
       "      <th>Pclass</th>\n",
       "      <th>Name</th>\n",
       "      <th>Sex</th>\n",
       "      <th>Age</th>\n",
       "      <th>SibSp</th>\n",
       "      <th>Parch</th>\n",
       "      <th>Ticket</th>\n",
       "      <th>Fare</th>\n",
       "      <th>Cabin</th>\n",
       "      <th>Embarked</th>\n",
       "    </tr>\n",
       "  </thead>\n",
       "  <tbody>\n",
       "    <tr>\n",
       "      <th>0</th>\n",
       "      <td>1</td>\n",
       "      <td>0</td>\n",
       "      <td>3</td>\n",
       "      <td>Braund, Mr. Owen Harris</td>\n",
       "      <td>male</td>\n",
       "      <td>22.0</td>\n",
       "      <td>1</td>\n",
       "      <td>0</td>\n",
       "      <td>A/5 21171</td>\n",
       "      <td>7.2500</td>\n",
       "      <td>NaN</td>\n",
       "      <td>S</td>\n",
       "    </tr>\n",
       "    <tr>\n",
       "      <th>1</th>\n",
       "      <td>2</td>\n",
       "      <td>1</td>\n",
       "      <td>1</td>\n",
       "      <td>Cumings, Mrs. John Bradley (Florence Briggs Th...</td>\n",
       "      <td>female</td>\n",
       "      <td>38.0</td>\n",
       "      <td>1</td>\n",
       "      <td>0</td>\n",
       "      <td>PC 17599</td>\n",
       "      <td>71.2833</td>\n",
       "      <td>C85</td>\n",
       "      <td>C</td>\n",
       "    </tr>\n",
       "    <tr>\n",
       "      <th>2</th>\n",
       "      <td>3</td>\n",
       "      <td>1</td>\n",
       "      <td>3</td>\n",
       "      <td>Heikkinen, Miss. Laina</td>\n",
       "      <td>female</td>\n",
       "      <td>26.0</td>\n",
       "      <td>0</td>\n",
       "      <td>0</td>\n",
       "      <td>STON/O2. 3101282</td>\n",
       "      <td>7.9250</td>\n",
       "      <td>NaN</td>\n",
       "      <td>S</td>\n",
       "    </tr>\n",
       "    <tr>\n",
       "      <th>3</th>\n",
       "      <td>4</td>\n",
       "      <td>1</td>\n",
       "      <td>1</td>\n",
       "      <td>Futrelle, Mrs. Jacques Heath (Lily May Peel)</td>\n",
       "      <td>female</td>\n",
       "      <td>35.0</td>\n",
       "      <td>1</td>\n",
       "      <td>0</td>\n",
       "      <td>113803</td>\n",
       "      <td>53.1000</td>\n",
       "      <td>C123</td>\n",
       "      <td>S</td>\n",
       "    </tr>\n",
       "    <tr>\n",
       "      <th>4</th>\n",
       "      <td>5</td>\n",
       "      <td>0</td>\n",
       "      <td>3</td>\n",
       "      <td>Allen, Mr. William Henry</td>\n",
       "      <td>male</td>\n",
       "      <td>35.0</td>\n",
       "      <td>0</td>\n",
       "      <td>0</td>\n",
       "      <td>373450</td>\n",
       "      <td>8.0500</td>\n",
       "      <td>NaN</td>\n",
       "      <td>S</td>\n",
       "    </tr>\n",
       "  </tbody>\n",
       "</table>\n",
       "</div>"
      ],
      "text/plain": [
       "   PassengerId  Survived  Pclass  \\\n",
       "0            1         0       3   \n",
       "1            2         1       1   \n",
       "2            3         1       3   \n",
       "3            4         1       1   \n",
       "4            5         0       3   \n",
       "\n",
       "                                                Name     Sex   Age  SibSp  \\\n",
       "0                            Braund, Mr. Owen Harris    male  22.0      1   \n",
       "1  Cumings, Mrs. John Bradley (Florence Briggs Th...  female  38.0      1   \n",
       "2                             Heikkinen, Miss. Laina  female  26.0      0   \n",
       "3       Futrelle, Mrs. Jacques Heath (Lily May Peel)  female  35.0      1   \n",
       "4                           Allen, Mr. William Henry    male  35.0      0   \n",
       "\n",
       "   Parch            Ticket     Fare Cabin Embarked  \n",
       "0      0         A/5 21171   7.2500   NaN        S  \n",
       "1      0          PC 17599  71.2833   C85        C  \n",
       "2      0  STON/O2. 3101282   7.9250   NaN        S  \n",
       "3      0            113803  53.1000  C123        S  \n",
       "4      0            373450   8.0500   NaN        S  "
      ]
     },
     "execution_count": 4,
     "metadata": {},
     "output_type": "execute_result"
    }
   ],
   "source": [
    "# Initialize dataframe\n",
    "df = pd.read_csv('./data/train.csv')\n",
    "# Show first 5 rows\n",
    "df.head()\n",
    "# Survived is target label, 0 = deceased and 1 = survived"
   ]
  },
  {
   "cell_type": "code",
   "execution_count": 5,
   "metadata": {},
   "outputs": [
    {
     "data": {
      "text/plain": [
       "Text(0.5, 1.0, 'Visual demonstration of missing values in \"training\" dataset')"
      ]
     },
     "execution_count": 5,
     "metadata": {},
     "output_type": "execute_result"
    },
    {
     "data": {
      "image/png": "[encoded data removed]",
      "text/plain": [
       "<Figure size 432x288 with 1 Axes>"
      ]
     },
     "metadata": {
      "needs_background": "light"
     },
     "output_type": "display_data"
    }
   ],
   "source": [
    "\"\"\"This could be used to visually demonstrate (in the report) how important it was to predict the age groups of passangers.\"\"\"\n",
    "sns.heatmap(df.isnull(), cbar = False).set_title('Visual demonstration of missing values in \"training\" dataset')\n"
   ]
  },
  {
   "cell_type": "code",
   "execution_count": 6,
   "metadata": {},
   "outputs": [
    {
     "name": "stdout",
     "output_type": "stream",
     "text": [
      "Total rows: 891\n"
     ]
    }
   ],
   "source": [
    "print('Total rows: {}'.format(df.shape[0]))"
   ]
  },
  {
   "cell_type": "code",
   "execution_count": 7,
   "metadata": {},
   "outputs": [
    {
     "name": "stdout",
     "output_type": "stream",
     "text": [
      "Missing values:\n",
      "PassengerId      0\n",
      "Survived         0\n",
      "Pclass           0\n",
      "Name             0\n",
      "Sex              0\n",
      "Age            177\n",
      "SibSp            0\n",
      "Parch            0\n",
      "Ticket           0\n",
      "Fare             0\n",
      "Cabin          687\n",
      "Embarked         2\n",
      "dtype: int64\n"
     ]
    }
   ],
   "source": [
    "print('Missing values:')\n",
    "print(df.isna().sum())"
   ]
  },
  {
   "cell_type": "code",
   "execution_count": 8,
   "metadata": {},
   "outputs": [
    {
     "name": "stdout",
     "output_type": "stream",
     "text": [
      "Unique values per feature:\n",
      "PassengerId    891\n",
      "Survived         2\n",
      "Pclass           3\n",
      "Name           891\n",
      "Sex              2\n",
      "Age             88\n",
      "SibSp            7\n",
      "Parch            7\n",
      "Ticket         681\n",
      "Fare           248\n",
      "Cabin          147\n",
      "Embarked         3\n",
      "dtype: int64\n"
     ]
    }
   ],
   "source": [
    "print('Unique values per feature:')\n",
    "print(df.nunique())"
   ]
  },
  {
   "cell_type": "code",
   "execution_count": 9,
   "metadata": {},
   "outputs": [
    {
     "data": {
      "text/html": [
       "<div>\n",
       "<style scoped>\n",
       "    .dataframe tbody tr th:only-of-type {\n",
       "        vertical-align: middle;\n",
       "    }\n",
       "\n",
       "    .dataframe tbody tr th {\n",
       "        vertical-align: top;\n",
       "    }\n",
       "\n",
       "    .dataframe thead th {\n",
       "        text-align: right;\n",
       "    }\n",
       "</style>\n",
       "<table border=\"1\" class=\"dataframe\">\n",
       "  <thead>\n",
       "    <tr style=\"text-align: right;\">\n",
       "      <th></th>\n",
       "      <th>Survived</th>\n",
       "      <th>Pclass</th>\n",
       "      <th>Sex</th>\n",
       "      <th>Age</th>\n",
       "      <th>SibSp</th>\n",
       "      <th>Parch</th>\n",
       "      <th>Fare</th>\n",
       "      <th>Embarked</th>\n",
       "      <th>Title</th>\n",
       "    </tr>\n",
       "  </thead>\n",
       "  <tbody>\n",
       "    <tr>\n",
       "      <th>0</th>\n",
       "      <td>0</td>\n",
       "      <td>3</td>\n",
       "      <td>1</td>\n",
       "      <td>22.0</td>\n",
       "      <td>1</td>\n",
       "      <td>0</td>\n",
       "      <td>7.2500</td>\n",
       "      <td>2</td>\n",
       "      <td>11</td>\n",
       "    </tr>\n",
       "    <tr>\n",
       "      <th>1</th>\n",
       "      <td>1</td>\n",
       "      <td>1</td>\n",
       "      <td>0</td>\n",
       "      <td>38.0</td>\n",
       "      <td>1</td>\n",
       "      <td>0</td>\n",
       "      <td>71.2833</td>\n",
       "      <td>0</td>\n",
       "      <td>12</td>\n",
       "    </tr>\n",
       "    <tr>\n",
       "      <th>2</th>\n",
       "      <td>1</td>\n",
       "      <td>3</td>\n",
       "      <td>0</td>\n",
       "      <td>26.0</td>\n",
       "      <td>0</td>\n",
       "      <td>0</td>\n",
       "      <td>7.9250</td>\n",
       "      <td>2</td>\n",
       "      <td>8</td>\n",
       "    </tr>\n",
       "    <tr>\n",
       "      <th>3</th>\n",
       "      <td>1</td>\n",
       "      <td>1</td>\n",
       "      <td>0</td>\n",
       "      <td>35.0</td>\n",
       "      <td>1</td>\n",
       "      <td>0</td>\n",
       "      <td>53.1000</td>\n",
       "      <td>2</td>\n",
       "      <td>12</td>\n",
       "    </tr>\n",
       "    <tr>\n",
       "      <th>4</th>\n",
       "      <td>0</td>\n",
       "      <td>3</td>\n",
       "      <td>1</td>\n",
       "      <td>35.0</td>\n",
       "      <td>0</td>\n",
       "      <td>0</td>\n",
       "      <td>8.0500</td>\n",
       "      <td>2</td>\n",
       "      <td>11</td>\n",
       "    </tr>\n",
       "  </tbody>\n",
       "</table>\n",
       "</div>"
      ],
      "text/plain": [
       "   Survived  Pclass  Sex   Age  SibSp  Parch     Fare  Embarked  Title\n",
       "0         0       3    1  22.0      1      0   7.2500         2     11\n",
       "1         1       1    0  38.0      1      0  71.2833         0     12\n",
       "2         1       3    0  26.0      0      0   7.9250         2      8\n",
       "3         1       1    0  35.0      1      0  53.1000         2     12\n",
       "4         0       3    1  35.0      0      0   8.0500         2     11"
      ]
     },
     "execution_count": 9,
     "metadata": {},
     "output_type": "execute_result"
    }
   ],
   "source": [
    "# Data cleanup (should be seperate function eventually)\n",
    "\n",
    "# Function from https://triangleinequality.wordpress.com/2013/09/08/basic-feature-engineering-with-the-titanic-data/\n",
    "def substrings_in_string(big_string, substrings):\n",
    "    for substring in substrings:\n",
    "        if big_string.find(substring) != -1:\n",
    "            return substring\n",
    "    print(big_string)\n",
    "    return np.nan\n",
    "\n",
    "def data_cleanup(df):\n",
    "    # Drop PassengerID\n",
    "    df = df.drop(['PassengerId'],axis=1)\n",
    "\n",
    "    # name turn to title\n",
    "    # coded with help of https://triangleinequality.wordpress.com/2013/09/08/basic-feature-engineering-with-the-titanic-data/\n",
    "    # ['Mr' 'Mrs' 'Miss' 'Master' 'Don' 'Rev' 'Dr' 'Mme' 'Ms' 'Major' 'Mlle', 'Col' 'Capt' 'Countess' 'Jonkheer']\n",
    "    # [11 12  8  7  3 14  4 10 13  6  9  1  0  2  5]\n",
    "    title_list=['Mrs', 'Mr', 'Master', 'Miss', 'Major', 'Rev',\n",
    "                        'Dr', 'Ms', 'Mlle','Col', 'Capt', 'Mme', 'Countess',\n",
    "                        'Don', 'Jonkheer']\n",
    "    df['Title']=df['Name'].map(lambda x: substrings_in_string(x, title_list))\n",
    "    # Title will be turned into unique label integer\n",
    "    df['Title'] = LabelEncoder().fit_transform(df['Title'])\n",
    "    # Name will be dropped \n",
    "    df = df.drop(['Name'],axis=1)\n",
    "\n",
    "    # Sex should be turned into unique integer label, 0 or 1\n",
    "    # Sex, 0 = female and 1 = male\n",
    "    df['Sex'] = LabelEncoder().fit_transform(df['Sex'])\n",
    "\n",
    "    # ticket (Ticket number) not sure if this is very informative? Suggestion to drop it (Pclass and fare are more informative)\n",
    "    df = df.drop(['Ticket'],axis=1)\n",
    "\n",
    "    # cabin (number), 687 missing values (77%). I suggest leaving this feature out, due to its absence in training set (Pclass and fare might depict what kind of cabin better)\n",
    "    df = df.drop(['Cabin'],axis=1)\n",
    "\n",
    "    # embarked should be turned into unique integer label, 0 = C (Cherbourgh), 1 = Q (Queenstown), 2 = S (Southampton)\n",
    "    df.Embarked.fillna('C', inplace=True)\n",
    "    df['Embarked'] = LabelEncoder().fit_transform(df['Embarked'])\n",
    "    return df\n",
    "\n",
    "df = data_cleanup(df)\n",
    "df.head()"
   ]
  },
  {
   "cell_type": "code",
   "execution_count": 10,
   "metadata": {},
   "outputs": [
    {
     "name": "stdout",
     "output_type": "stream",
     "text": [
      "1    577\n",
      "0    314\n",
      "Name: Sex, dtype: int64\n"
     ]
    }
   ],
   "source": [
    "# Print amount males and females\n",
    "print(df.Sex.value_counts())\n",
    "# Sex, 0 = female and 1 = male"
   ]
  },
  {
   "cell_type": "code",
   "execution_count": 11,
   "metadata": {},
   "outputs": [
    {
     "name": "stdout",
     "output_type": "stream",
     "text": [
      "Sex  Survived\n",
      "0    1           233\n",
      "     0            81\n",
      "1    0           468\n",
      "     1           109\n",
      "Name: Survived, dtype: int64\n"
     ]
    },
    {
     "data": {
      "text/plain": [
       "<AxesSubplot:xlabel='Sex'>"
      ]
     },
     "execution_count": 11,
     "metadata": {},
     "output_type": "execute_result"
    },
    {
     "data": {
      "image/png": "[encoded data removed]",
      "text/plain": [
       "<Figure size 432x288 with 1 Axes>"
      ]
     },
     "metadata": {
      "needs_background": "light"
     },
     "output_type": "display_data"
    }
   ],
   "source": [
    "# Relation male/female and survived\n",
    "print(df.groupby('Sex').Survived.value_counts())\n",
    "df.groupby('Sex').Survived.mean().plot(kind='bar')\n",
    "# Survived is target label, 0 = deceased and 1 = survived\n",
    "# Sex, 0 = female and 1 = male"
   ]
  },
  {
   "cell_type": "code",
   "execution_count": 12,
   "metadata": {},
   "outputs": [
    {
     "name": "stdout",
     "output_type": "stream",
     "text": [
      "count    891.000000\n",
      "mean      32.204208\n",
      "std       49.693429\n",
      "min        0.000000\n",
      "25%        7.910400\n",
      "50%       14.454200\n",
      "75%       31.000000\n",
      "max      512.329200\n",
      "Name: Fare, dtype: float64\n",
      "     Survived  Pclass  Sex   Age  SibSp  Parch  Fare  Embarked  Title\n",
      "179         0       3    1  36.0      0      0   0.0         2     11\n",
      "263         0       1    1  40.0      0      0   0.0         2     11\n",
      "271         1       3    1  25.0      0      0   0.0         2     11\n",
      "277         0       2    1   NaN      0      0   0.0         2     11\n",
      "302         0       3    1  19.0      0      0   0.0         2     11\n",
      "413         0       2    1   NaN      0      0   0.0         2     11\n",
      "466         0       2    1   NaN      0      0   0.0         2     11\n",
      "481         0       2    1   NaN      0      0   0.0         2     11\n",
      "597         0       3    1  49.0      0      0   0.0         2     11\n",
      "633         0       1    1   NaN      0      0   0.0         2     11\n",
      "674         0       2    1   NaN      0      0   0.0         2     11\n",
      "732         0       2    1   NaN      0      0   0.0         2     11\n",
      "806         0       1    1  39.0      0      0   0.0         2     11\n",
      "815         0       1    1   NaN      0      0   0.0         2     11\n",
      "822         0       1    1  38.0      0      0   0.0         2      5\n",
      "135\n"
     ]
    }
   ],
   "source": [
    "# Plot fare\n",
    "print(df['Fare'].describe())\n",
    "\n",
    "print(df.loc[df['Fare'] == 0])\n",
    "print(df.loc[df['Fare'] == 0].size)"
   ]
  },
  {
   "cell_type": "code",
   "execution_count": 13,
   "metadata": {},
   "outputs": [
    {
     "name": "stdout",
     "output_type": "stream",
     "text": [
      "714\n",
      "331\n",
      "   Pclass  Sex   Age  SibSp  Parch     Fare  Embarked  Title\n",
      "0       3    1  22.0      1      0   7.2500         2     11\n",
      "1       1    0  38.0      1      0  71.2833         0     12\n",
      "2       3    0  26.0      0      0   7.9250         2      8\n",
      "3       1    0  35.0      1      0  53.1000         2     12\n",
      "4       3    1  35.0      0      0   8.0500         2     11\n",
      "1045\n",
      "Unique values per feature:\n",
      "Pclass        3\n",
      "Sex           2\n",
      "Age          97\n",
      "SibSp         7\n",
      "Parch         7\n",
      "Fare        256\n",
      "Embarked      3\n",
      "Title        15\n",
      "dtype: int64\n",
      "Missing values:\n",
      "Pclass      0\n",
      "Sex         0\n",
      "Age         0\n",
      "SibSp       0\n",
      "Parch       0\n",
      "Fare        0\n",
      "Embarked    0\n",
      "Title       0\n",
      "dtype: int64\n"
     ]
    },
    {
     "data": {
      "text/html": [
       "<div>\n",
       "<style scoped>\n",
       "    .dataframe tbody tr th:only-of-type {\n",
       "        vertical-align: middle;\n",
       "    }\n",
       "\n",
       "    .dataframe tbody tr th {\n",
       "        vertical-align: top;\n",
       "    }\n",
       "\n",
       "    .dataframe thead th {\n",
       "        text-align: right;\n",
       "    }\n",
       "</style>\n",
       "<table border=\"1\" class=\"dataframe\">\n",
       "  <thead>\n",
       "    <tr style=\"text-align: right;\">\n",
       "      <th></th>\n",
       "      <th>Pclass</th>\n",
       "      <th>Sex</th>\n",
       "      <th>Age</th>\n",
       "      <th>SibSp</th>\n",
       "      <th>Parch</th>\n",
       "      <th>Fare</th>\n",
       "      <th>Embarked</th>\n",
       "      <th>Title</th>\n",
       "    </tr>\n",
       "  </thead>\n",
       "  <tbody>\n",
       "    <tr>\n",
       "      <th>Pclass</th>\n",
       "      <td>1.000000</td>\n",
       "      <td>0.144105</td>\n",
       "      <td>-0.411086</td>\n",
       "      <td>0.047746</td>\n",
       "      <td>0.017685</td>\n",
       "      <td>-0.565255</td>\n",
       "      <td>0.280274</td>\n",
       "      <td>0.056142</td>\n",
       "    </tr>\n",
       "    <tr>\n",
       "      <th>Sex</th>\n",
       "      <td>0.144105</td>\n",
       "      <td>1.000000</td>\n",
       "      <td>0.062235</td>\n",
       "      <td>-0.094902</td>\n",
       "      <td>-0.220864</td>\n",
       "      <td>-0.187930</td>\n",
       "      <td>0.113614</td>\n",
       "      <td>0.095851</td>\n",
       "    </tr>\n",
       "    <tr>\n",
       "      <th>Age</th>\n",
       "      <td>-0.411086</td>\n",
       "      <td>0.062235</td>\n",
       "      <td>1.000000</td>\n",
       "      <td>-0.243139</td>\n",
       "      <td>-0.150241</td>\n",
       "      <td>0.178740</td>\n",
       "      <td>-0.087878</td>\n",
       "      <td>0.158041</td>\n",
       "    </tr>\n",
       "    <tr>\n",
       "      <th>SibSp</th>\n",
       "      <td>0.047746</td>\n",
       "      <td>-0.094902</td>\n",
       "      <td>-0.243139</td>\n",
       "      <td>1.000000</td>\n",
       "      <td>0.374291</td>\n",
       "      <td>0.141184</td>\n",
       "      <td>0.047351</td>\n",
       "      <td>-0.090327</td>\n",
       "    </tr>\n",
       "    <tr>\n",
       "      <th>Parch</th>\n",
       "      <td>0.017685</td>\n",
       "      <td>-0.220864</td>\n",
       "      <td>-0.150241</td>\n",
       "      <td>0.374291</td>\n",
       "      <td>1.000000</td>\n",
       "      <td>0.216723</td>\n",
       "      <td>0.013017</td>\n",
       "      <td>-0.040694</td>\n",
       "    </tr>\n",
       "    <tr>\n",
       "      <th>Fare</th>\n",
       "      <td>-0.565255</td>\n",
       "      <td>-0.187930</td>\n",
       "      <td>0.178740</td>\n",
       "      <td>0.141184</td>\n",
       "      <td>0.216723</td>\n",
       "      <td>1.000000</td>\n",
       "      <td>-0.303069</td>\n",
       "      <td>-0.086668</td>\n",
       "    </tr>\n",
       "    <tr>\n",
       "      <th>Embarked</th>\n",
       "      <td>0.280274</td>\n",
       "      <td>0.113614</td>\n",
       "      <td>-0.087878</td>\n",
       "      <td>0.047351</td>\n",
       "      <td>0.013017</td>\n",
       "      <td>-0.303069</td>\n",
       "      <td>1.000000</td>\n",
       "      <td>0.100735</td>\n",
       "    </tr>\n",
       "    <tr>\n",
       "      <th>Title</th>\n",
       "      <td>0.056142</td>\n",
       "      <td>0.095851</td>\n",
       "      <td>0.158041</td>\n",
       "      <td>-0.090327</td>\n",
       "      <td>-0.040694</td>\n",
       "      <td>-0.086668</td>\n",
       "      <td>0.100735</td>\n",
       "      <td>1.000000</td>\n",
       "    </tr>\n",
       "  </tbody>\n",
       "</table>\n",
       "</div>"
      ],
      "text/plain": [
       "            Pclass       Sex       Age     SibSp     Parch      Fare  \\\n",
       "Pclass    1.000000  0.144105 -0.411086  0.047746  0.017685 -0.565255   \n",
       "Sex       0.144105  1.000000  0.062235 -0.094902 -0.220864 -0.187930   \n",
       "Age      -0.411086  0.062235  1.000000 -0.243139 -0.150241  0.178740   \n",
       "SibSp     0.047746 -0.094902 -0.243139  1.000000  0.374291  0.141184   \n",
       "Parch     0.017685 -0.220864 -0.150241  0.374291  1.000000  0.216723   \n",
       "Fare     -0.565255 -0.187930  0.178740  0.141184  0.216723  1.000000   \n",
       "Embarked  0.280274  0.113614 -0.087878  0.047351  0.013017 -0.303069   \n",
       "Title     0.056142  0.095851  0.158041 -0.090327 -0.040694 -0.086668   \n",
       "\n",
       "          Embarked     Title  \n",
       "Pclass    0.280274  0.056142  \n",
       "Sex       0.113614  0.095851  \n",
       "Age      -0.087878  0.158041  \n",
       "SibSp     0.047351 -0.090327  \n",
       "Parch     0.013017 -0.040694  \n",
       "Fare     -0.303069 -0.086668  \n",
       "Embarked  1.000000  0.100735  \n",
       "Title     0.100735  1.000000  "
      ]
     },
     "execution_count": 13,
     "metadata": {},
     "output_type": "execute_result"
    }
   ],
   "source": [
    "# AGE PREDICTOR EXPERIMENT\n",
    "df_1 = pd.read_csv('./data/train.csv')\n",
    "df_2 = pd.read_csv('./data/test.csv')\n",
    "\n",
    "# Ready df_1\n",
    "df_1 = df_1.loc[df_1.Age.notnull()]\n",
    "df_1.drop(['Survived'],axis=1, inplace=True)\n",
    "df_1 = data_cleanup(df_1)\n",
    "print(df_1.shape[0])\n",
    "# Ready df_2\n",
    "df_2 = df_2.loc[df_2.Age.notnull()]\n",
    "df_2 = df_2.loc[df_2.Fare.notnull()]\n",
    "df_2 = data_cleanup(df_2)\n",
    "print(df_2.shape[0])\n",
    "\n",
    "new_df = pd.concat([df_1, df_2], axis=0)\n",
    "\n",
    "print(new_df.head())\n",
    "print(new_df.shape[0])\n",
    "\n",
    "print('Unique values per feature:')\n",
    "print(new_df.nunique())\n",
    "\n",
    "print('Missing values:')\n",
    "print(new_df.isna().sum())\n",
    "\n",
    "new_df.corr(method='pearson')\n"
   ]
  },
  {
   "cell_type": "code",
   "execution_count": 14,
   "metadata": {},
   "outputs": [
    {
     "name": "stdout",
     "output_type": "stream",
     "text": [
      "count    1045.000000\n",
      "mean       29.851837\n",
      "std        14.389194\n",
      "min         0.170000\n",
      "25%        21.000000\n",
      "50%        28.000000\n",
      "75%        39.000000\n",
      "max        80.000000\n",
      "Name: Age, dtype: float64\n"
     ]
    },
    {
     "data": {
      "text/plain": [
       "<AxesSubplot:>"
      ]
     },
     "execution_count": 14,
     "metadata": {},
     "output_type": "execute_result"
    },
    {
     "data": {
      "image/png": "[encoded data removed]",
      "text/plain": [
       "<Figure size 432x288 with 1 Axes>"
      ]
     },
     "metadata": {
      "needs_background": "light"
     },
     "output_type": "display_data"
    }
   ],
   "source": [
    "# According to the correlation schema, correlation between Age and Sex/Embarked is negligble so leaving them out\n",
    "new_df.drop(['Embarked', 'Sex'],axis=1, inplace=True)\n",
    "# Describe Age ranges\n",
    "print(new_df['Age'].describe())\n",
    "\n",
    "# Age groups, need to figure out class balance \n",
    "bins= [0, 13, 48, 110]\n",
    "labels = ['Child', 'Adult', 'Senior']\n",
    "new_df['AgeGroup'] = pd.cut(new_df['Age'], bins=bins, labels=labels, right=False)\n",
    "\n",
    "new_df['AgeGroup'].value_counts().plot(kind='bar')"
   ]
  },
  {
   "cell_type": "code",
   "execution_count": 15,
   "metadata": {},
   "outputs": [
    {
     "data": {
      "text/html": [
       "<div>\n",
       "<style scoped>\n",
       "    .dataframe tbody tr th:only-of-type {\n",
       "        vertical-align: middle;\n",
       "    }\n",
       "\n",
       "    .dataframe tbody tr th {\n",
       "        vertical-align: top;\n",
       "    }\n",
       "\n",
       "    .dataframe thead th {\n",
       "        text-align: right;\n",
       "    }\n",
       "</style>\n",
       "<table border=\"1\" class=\"dataframe\">\n",
       "  <thead>\n",
       "    <tr style=\"text-align: right;\">\n",
       "      <th></th>\n",
       "      <th>Pclass</th>\n",
       "      <th>Age</th>\n",
       "      <th>SibSp</th>\n",
       "      <th>Parch</th>\n",
       "      <th>Fare</th>\n",
       "      <th>Title</th>\n",
       "      <th>AgeGroup</th>\n",
       "    </tr>\n",
       "  </thead>\n",
       "  <tbody>\n",
       "    <tr>\n",
       "      <th>0</th>\n",
       "      <td>3</td>\n",
       "      <td>22.0</td>\n",
       "      <td>1</td>\n",
       "      <td>0</td>\n",
       "      <td>7.2500</td>\n",
       "      <td>11</td>\n",
       "      <td>Adult</td>\n",
       "    </tr>\n",
       "    <tr>\n",
       "      <th>1</th>\n",
       "      <td>1</td>\n",
       "      <td>38.0</td>\n",
       "      <td>1</td>\n",
       "      <td>0</td>\n",
       "      <td>71.2833</td>\n",
       "      <td>12</td>\n",
       "      <td>Adult</td>\n",
       "    </tr>\n",
       "    <tr>\n",
       "      <th>2</th>\n",
       "      <td>3</td>\n",
       "      <td>26.0</td>\n",
       "      <td>0</td>\n",
       "      <td>0</td>\n",
       "      <td>7.9250</td>\n",
       "      <td>8</td>\n",
       "      <td>Adult</td>\n",
       "    </tr>\n",
       "    <tr>\n",
       "      <th>3</th>\n",
       "      <td>1</td>\n",
       "      <td>35.0</td>\n",
       "      <td>1</td>\n",
       "      <td>0</td>\n",
       "      <td>53.1000</td>\n",
       "      <td>12</td>\n",
       "      <td>Adult</td>\n",
       "    </tr>\n",
       "    <tr>\n",
       "      <th>4</th>\n",
       "      <td>3</td>\n",
       "      <td>35.0</td>\n",
       "      <td>0</td>\n",
       "      <td>0</td>\n",
       "      <td>8.0500</td>\n",
       "      <td>11</td>\n",
       "      <td>Adult</td>\n",
       "    </tr>\n",
       "  </tbody>\n",
       "</table>\n",
       "</div>"
      ],
      "text/plain": [
       "   Pclass   Age  SibSp  Parch     Fare  Title AgeGroup\n",
       "0       3  22.0      1      0   7.2500     11    Adult\n",
       "1       1  38.0      1      0  71.2833     12    Adult\n",
       "2       3  26.0      0      0   7.9250      8    Adult\n",
       "3       1  35.0      1      0  53.1000     12    Adult\n",
       "4       3  35.0      0      0   8.0500     11    Adult"
      ]
     },
     "execution_count": 15,
     "metadata": {},
     "output_type": "execute_result"
    }
   ],
   "source": [
    "new_df.head()"
   ]
  },
  {
   "cell_type": "code",
   "execution_count": 16,
   "metadata": {},
   "outputs": [
    {
     "name": "stdout",
     "output_type": "stream",
     "text": [
      "['Adult', 'Senior', 'Child']\n",
      "Categories (3, object): ['Child' < 'Adult' < 'Senior']\n",
      "[0 2 1]\n",
      "   Pclass  SibSp  Parch     Fare  Title  AgeGroup\n",
      "0       3      1      0   7.2500     11         0\n",
      "1       1      1      0  71.2833     12         0\n",
      "2       3      0      0   7.9250      8         0\n",
      "3       1      1      0  53.1000     12         0\n",
      "4       3      0      0   8.0500     11         0\n"
     ]
    }
   ],
   "source": [
    "# Evaluating two models, CategoricalNaiveBayes and CategoricalDecisionTree - EVALUATED, chosen for RandomForestClassifier\n",
    "\n",
    "# First drop age\n",
    "new_df.drop(['Age'],axis=1, inplace=True)\n",
    "# Turn AgeGroup into unique label integer\n",
    "print(new_df['AgeGroup'].unique())\n",
    "new_df['AgeGroup'] = LabelEncoder().fit_transform(new_df['AgeGroup'])\n",
    "print(new_df['AgeGroup'].unique())\n",
    "# Double check df\n",
    "print(new_df.head())\n",
    "\n",
    "# Preparing data \n",
    "X_exp = new_df.iloc[:,0:5] \n",
    "y_exp = new_df.iloc[:, 5]\n",
    "X_exp.head(), y_exp.head()\n",
    "\n",
    "# To counteract the class imbalance\n",
    "\n",
    "# Random oversampler\n",
    "ros = RandomOverSampler(random_state=0)\n",
    "X_exp, y_exp = ros.fit_resample(X_exp, y_exp)\n",
    "# SMOTE oversampler\n",
    "# smote = SMOTE()\n",
    "# X_exp, y_exp = smote.fit_resample(X_exp, y_exp)\n",
    "\n",
    "# Initialize models\n",
    "rfc_e = RandomForestClassifier(criterion='entropy')\n",
    "rfc_g = RandomForestClassifier(criterion='gini')\n",
    "# cnb = CategoricalNB(min_categories=X_exp.nunique() + 2)\n"
   ]
  },
  {
   "cell_type": "code",
   "execution_count": 17,
   "metadata": {},
   "outputs": [
    {
     "name": "stdout",
     "output_type": "stream",
     "text": [
      "rfc_e 0.89 accuracy with a standard deviation of 0.03\n",
      "rfc_g 0.89 accuracy with a standard deviation of 0.03\n",
      "              precision    recall  f1-score   support\n",
      "\n",
      "           0       0.90      0.75      0.82       819\n",
      "           1       0.97      1.00      0.98       819\n",
      "           2       0.81      0.92      0.86       819\n",
      "\n",
      "    accuracy                           0.89      2457\n",
      "   macro avg       0.89      0.89      0.89      2457\n",
      "weighted avg       0.89      0.89      0.89      2457\n",
      "\n",
      "              precision    recall  f1-score   support\n",
      "\n",
      "           0       0.90      0.74      0.81       819\n",
      "           1       0.97      1.00      0.98       819\n",
      "           2       0.80      0.92      0.86       819\n",
      "\n",
      "    accuracy                           0.89      2457\n",
      "   macro avg       0.89      0.89      0.88      2457\n",
      "weighted avg       0.89      0.89      0.88      2457\n",
      "\n"
     ]
    }
   ],
   "source": [
    "# Cross-validate (stratified k fold) scores each model\n",
    "scores_rfc_e = cross_val_score(rfc_e, X_exp, y_exp, cv=5)\n",
    "scores_rfc_g = cross_val_score(rfc_g, X_exp, y_exp, cv=5)\n",
    "# scores_cnb = cross_val_score(cnb, X_exp, y_exp, cv=5)\n",
    "\n",
    "print(\"rfc_e %0.2f accuracy with a standard deviation of %0.2f\" % (scores_rfc_e.mean(), scores_rfc_e.std()))\n",
    "print(\"rfc_g %0.2f accuracy with a standard deviation of %0.2f\" % (scores_rfc_g.mean(), scores_rfc_g.std()))\n",
    "# print(\"cnb %0.2f accuracy with a standard deviation of %0.2f\" % (scores_cnb.mean(), scores_cnb.std()))\n",
    "\n",
    "pred_rfc_e = cross_val_predict(rfc_e, X_exp, y_exp, cv=5)\n",
    "pred_rfc_g = cross_val_predict(rfc_g, X_exp, y_exp, cv=5)\n",
    "# pred_cnb = cross_val_predict(cnb, X_exp, y_exp, cv=5)\n",
    "\n",
    "print(classification_report(y_exp, pred_rfc_e))\n",
    "#ConfusionMatrixDisplay.from_predictions(y_exp, pred_rfc_e)\n",
    "\n",
    "print(classification_report(y_exp, pred_rfc_g))\n",
    "#ConfusionMatrixDisplay.from_predictions(y_exp, pred_rfc_g)\n",
    "\n",
    "# print(classification_report(y_exp, pred_cnb))\n",
    "# ConfusionMatrixDisplay.from_predictions(y_exp, pred_cnb)\n"
   ]
  },
  {
   "cell_type": "code",
   "execution_count": 18,
   "metadata": {},
   "outputs": [
    {
     "name": "stdout",
     "output_type": "stream",
     "text": [
      "     Pclass  SibSp  Parch     Fare  Title\n",
      "859       3      0      0   7.2292     11\n",
      "863       3      8      2  69.5500      8\n",
      "868       3      0      0   9.5000     11\n",
      "878       3      0      0   7.8958     11\n",
      "888       3      1      2  23.4500      8\n",
      "[0 0 0 0 0 0 0 0 0 0 2 0 0 0 0 0 1 0 2 0 2 2 0 0 0 2 2 1 0 0 0 0 0 2 1 0 0\n",
      " 2 0 2 0 0 0 0 1 0 0 0 0 2 2 0 0 0 2 2 0 2 0 0 0 2 0 0 0 0 0 0 2 0 0 0 0 0\n",
      " 0 0 0 0 1 0 0 2 0 0 0 2 0 0 0 2 0 2 2 2 0 0 0 2 1 0 0 0 0 2 2 0 0 0 0 0 0\n",
      " 0 2 2 0 2 2 0 0 0 0 0 2 0 0 0 0 0 0 0 2 0 0 0 0 0 0 0 0 0 0 2 0 0 0 1 2 0\n",
      " 0 2 0 0 2 0 0 0 0 2 0 0 2 0 2 0 0 0 2 0 2 2 0 0 0 0 0 0 1]\n",
      "Int64Index([  5,  17,  19,  26,  28,  29,  31,  32,  36,  42,\n",
      "            ...\n",
      "            832, 837, 839, 846, 849, 859, 863, 868, 878, 888],\n",
      "           dtype='int64', length=177)\n"
     ]
    },
    {
     "name": "stderr",
     "output_type": "stream",
     "text": [
      "C:\\Users\\Konstantin\\anaconda3\\lib\\site-packages\\pandas\\core\\frame.py:4308: SettingWithCopyWarning: \n",
      "A value is trying to be set on a copy of a slice from a DataFrame\n",
      "\n",
      "See the caveats in the documentation: https://pandas.pydata.org/pandas-docs/stable/user_guide/indexing.html#returning-a-view-versus-a-copy\n",
      "  return super().drop(\n"
     ]
    }
   ],
   "source": [
    "# Show rows of original train df that does not have age\n",
    "ageless_df = df[df['Age'].isnull()]\n",
    "ageless_df.drop(['Survived', 'Embarked', 'Sex', 'Age'],axis=1, inplace=True)\n",
    "print(ageless_df.tail())\n",
    "# Fit chosen model with our data\n",
    "rfc_g.fit(X_exp, y_exp)\n",
    "# Predict \n",
    "predict_age = rfc_g.predict(ageless_df)\n",
    "\n",
    "print(predict_age)\n",
    "print(ageless_df.index)\n"
   ]
  },
  {
   "cell_type": "code",
   "execution_count": 19,
   "metadata": {},
   "outputs": [
    {
     "name": "stdout",
     "output_type": "stream",
     "text": [
      "<class 'numpy.ndarray'>\n",
      "     Survived  Pclass  Sex  SibSp  Parch     Fare  Embarked  Title  AgeGroup\n",
      "0           0       3    1      1      0   7.2500         2     11         2\n",
      "1           1       1    0      1      0  71.2833         0     12         2\n",
      "2           1       3    0      0      0   7.9250         2      8         2\n",
      "3           1       1    0      1      0  53.1000         2     12         2\n",
      "4           0       3    1      0      0   8.0500         2     11         2\n",
      "..        ...     ...  ...    ...    ...      ...       ...    ...       ...\n",
      "886         0       2    1      0      0  13.0000         2     14         2\n",
      "887         1       1    0      0      0  30.0000         2      8         2\n",
      "888         0       3    0      1      2  23.4500         2      8         1\n",
      "889         1       1    1      0      0  30.0000         0     11         2\n",
      "890         0       3    1      0      0   7.7500         1     11         2\n",
      "\n",
      "[891 rows x 9 columns]\n"
     ]
    }
   ],
   "source": [
    "# Plug values into df\n",
    "print(type(predict_age))\n",
    "df.loc[ageless_df.index, 'AgeGroup'] = predict_age\n",
    "# print(df.loc[ageless_df.index])\n",
    "# Turn existing ages into agegroups\n",
    "bins= [0, 13, 48, 110]\n",
    "labels = [0, 2, 1]\n",
    "\n",
    "m = df['AgeGroup'].isna()\n",
    "df.loc[m, 'AgeGroup'] = pd.cut(df[df['AgeGroup'].isnull()]['Age'], bins=bins, labels=labels, right=False).to_numpy()\n",
    "df['AgeGroup'] = df['AgeGroup'].astype(int)\n",
    "# Drop the Age feature\n",
    "df.drop(['Age'],axis=1, inplace=True)\n",
    "print(df)"
   ]
  },
  {
   "cell_type": "markdown",
   "metadata": {},
   "source": [
    "# Working on it from here, fill up later"
   ]
  },
  {
   "cell_type": "code",
   "execution_count": 20,
   "metadata": {},
   "outputs": [
    {
     "data": {
      "image/png": "[encoded data removed]",
      "text/plain": [
       "<Figure size 432x288 with 1 Axes>"
      ]
     },
     "metadata": {
      "needs_background": "light"
     },
     "output_type": "display_data"
    }
   ],
   "source": [
    "fare_dist = df.hist('Fare')\n",
    "# think on this later, can something useful be done for the fare feature?\n"
   ]
  },
  {
   "cell_type": "code",
   "execution_count": 21,
   "metadata": {},
   "outputs": [
    {
     "name": "stdout",
     "output_type": "stream",
     "text": [
      "<class 'pandas.core.frame.DataFrame'>\n",
      "RangeIndex: 891 entries, 0 to 890\n",
      "Data columns (total 9 columns):\n",
      " #   Column    Non-Null Count  Dtype  \n",
      "---  ------    --------------  -----  \n",
      " 0   Survived  891 non-null    int64  \n",
      " 1   Pclass    891 non-null    int64  \n",
      " 2   Sex       891 non-null    int32  \n",
      " 3   SibSp     891 non-null    int64  \n",
      " 4   Parch     891 non-null    int64  \n",
      " 5   Fare      891 non-null    float64\n",
      " 6   Embarked  891 non-null    int32  \n",
      " 7   Title     891 non-null    int32  \n",
      " 8   AgeGroup  891 non-null    int32  \n",
      "dtypes: float64(1), int32(4), int64(4)\n",
      "memory usage: 48.9 KB\n",
      "None\n"
     ]
    },
    {
     "data": {
      "text/plain": [
       "<AxesSubplot:>"
      ]
     },
     "execution_count": 21,
     "metadata": {},
     "output_type": "execute_result"
    },
    {
     "data": {
      "image/png": "[encoded data removed]",
      "text/plain": [
       "<Figure size 432x288 with 2 Axes>"
      ]
     },
     "metadata": {
      "needs_background": "light"
     },
     "output_type": "display_data"
    }
   ],
   "source": [
    "print(df.info())\n",
    "sns.heatmap(df.corr())"
   ]
  },
  {
   "cell_type": "code",
   "execution_count": 22,
   "metadata": {},
   "outputs": [
    {
     "data": {
      "text/html": [
       "<div>\n",
       "<style scoped>\n",
       "    .dataframe tbody tr th:only-of-type {\n",
       "        vertical-align: middle;\n",
       "    }\n",
       "\n",
       "    .dataframe tbody tr th {\n",
       "        vertical-align: top;\n",
       "    }\n",
       "\n",
       "    .dataframe thead th {\n",
       "        text-align: right;\n",
       "    }\n",
       "</style>\n",
       "<table border=\"1\" class=\"dataframe\">\n",
       "  <thead>\n",
       "    <tr style=\"text-align: right;\">\n",
       "      <th></th>\n",
       "      <th>Fare</th>\n",
       "      <th>Parch</th>\n",
       "      <th>SibSp</th>\n",
       "    </tr>\n",
       "    <tr>\n",
       "      <th>Survived</th>\n",
       "      <th></th>\n",
       "      <th></th>\n",
       "      <th></th>\n",
       "    </tr>\n",
       "  </thead>\n",
       "  <tbody>\n",
       "    <tr>\n",
       "      <th>0</th>\n",
       "      <td>22.117887</td>\n",
       "      <td>0.329690</td>\n",
       "      <td>0.553734</td>\n",
       "    </tr>\n",
       "    <tr>\n",
       "      <th>1</th>\n",
       "      <td>48.395408</td>\n",
       "      <td>0.464912</td>\n",
       "      <td>0.473684</td>\n",
       "    </tr>\n",
       "  </tbody>\n",
       "</table>\n",
       "</div>"
      ],
      "text/plain": [
       "               Fare     Parch     SibSp\n",
       "Survived                               \n",
       "0         22.117887  0.329690  0.553734\n",
       "1         48.395408  0.464912  0.473684"
      ]
     },
     "execution_count": 22,
     "metadata": {},
     "output_type": "execute_result"
    }
   ],
   "source": [
    "\"\"\"Displays the average price paid, family size and number of siblings for both not survived(0) and survived(1). \"\"\"\n",
    "\n",
    "pd.pivot_table(df, index= 'Survived', values = ['SibSp', 'Parch', 'Fare'])\n",
    "\n",
    "# Nothing here is too significant, but:\n",
    "# This indicates that those who survived payed more\n",
    "# those who have parents are more likely to survive\n",
    "# those who have siblings are less likely to survive? \n",
    "# I dont think this is too surprising"
   ]
  },
  {
   "cell_type": "markdown",
   "metadata": {},
   "source": [
    "## Visualising currently remaining features"
   ]
  },
  {
   "cell_type": "code",
   "execution_count": 23,
   "metadata": {},
   "outputs": [
    {
     "data": {
      "text/plain": [
       "<AxesSubplot:title={'center':'How many survived'}>"
      ]
     },
     "execution_count": 23,
     "metadata": {},
     "output_type": "execute_result"
    },
    {
     "data": {
      "image/png": "[encoded data removed]",
      "text/plain": [
       "<Figure size 432x288 with 1 Axes>"
      ]
     },
     "metadata": {
      "needs_background": "light"
     },
     "output_type": "display_data"
    }
   ],
   "source": [
    "df['Survived'].value_counts().plot.bar(title='How many survived')#####2@@@dfgdfgdfgdfgdfgasdghjghjfghgfhi"
   ]
  },
  {
   "cell_type": "code",
   "execution_count": 24,
   "metadata": {},
   "outputs": [
    {
     "data": {
      "text/plain": [
       "<AxesSubplot:title={'center':'How many in each class'}>"
      ]
     },
     "execution_count": 24,
     "metadata": {},
     "output_type": "execute_result"
    },
    {
     "data": {
      "image/png": "[encoded data removed]",
      "text/plain": [
       "<Figure size 432x288 with 1 Axes>"
      ]
     },
     "metadata": {
      "needs_background": "light"
     },
     "output_type": "display_data"
    }
   ],
   "source": [
    "df['Pclass'].value_counts().plot.bar(title='How many in each class')"
   ]
  },
  {
   "cell_type": "code",
   "execution_count": 25,
   "metadata": {},
   "outputs": [
    {
     "data": {
      "text/plain": [
       "<AxesSubplot:title={'center':'How many siblings and spouses'}>"
      ]
     },
     "execution_count": 25,
     "metadata": {},
     "output_type": "execute_result"
    },
    {
     "data": {
      "image/png": "[encoded data removed]",
      "text/plain": [
       "<Figure size 432x288 with 1 Axes>"
      ]
     },
     "metadata": {
      "needs_background": "light"
     },
     "output_type": "display_data"
    }
   ],
   "source": [
    "df['SibSp'].value_counts().plot.bar(title='How many siblings and spouses')"
   ]
  },
  {
   "cell_type": "code",
   "execution_count": 26,
   "metadata": {},
   "outputs": [
    {
     "data": {
      "text/plain": [
       "<AxesSubplot:title={'center':'How many with parent or children a passanger has'}>"
      ]
     },
     "execution_count": 26,
     "metadata": {},
     "output_type": "execute_result"
    },
    {
     "data": {
      "image/png": "[encoded data removed]",
      "text/plain": [
       "<Figure size 432x288 with 1 Axes>"
      ]
     },
     "metadata": {
      "needs_background": "light"
     },
     "output_type": "display_data"
    }
   ],
   "source": [
    "df['Parch'].value_counts().plot.bar(title='How many with parent or children a passanger has')"
   ]
  },
  {
   "cell_type": "markdown",
   "metadata": {},
   "source": [
    "### Representing how many survived from each class"
   ]
  },
  {
   "cell_type": "code",
   "execution_count": 27,
   "metadata": {},
   "outputs": [
    {
     "data": {
      "text/plain": [
       "<AxesSubplot:xlabel='Pclass', ylabel='Survived'>"
      ]
     },
     "execution_count": 27,
     "metadata": {},
     "output_type": "execute_result"
    },
    {
     "data": {
      "image/png": "[encoded data removed]",
      "text/plain": [
       "<Figure size 432x288 with 1 Axes>"
      ]
     },
     "metadata": {
      "needs_background": "light"
     },
     "output_type": "display_data"
    }
   ],
   "source": [
    "sns.barplot(x='Pclass', y='Survived', data=df)\n",
    "\n",
    "### For write up - This strongly indicates that survival rates were highly dependant on the passangers class. "
   ]
  },
  {
   "cell_type": "code",
   "execution_count": 28,
   "metadata": {},
   "outputs": [
    {
     "name": "stderr",
     "output_type": "stream",
     "text": [
      "C:\\Users\\Konstantin\\anaconda3\\lib\\site-packages\\seaborn\\axisgrid.py:316: UserWarning: The `size` parameter has been renamed to `height`; please update your code.\n",
      "  warnings.warn(msg, UserWarning)\n"
     ]
    },
    {
     "data": {
      "text/plain": [
       "<seaborn.axisgrid.FacetGrid at 0x1ce3ecd3820>"
      ]
     },
     "execution_count": 28,
     "metadata": {},
     "output_type": "execute_result"
    },
    {
     "data": {
      "image/png": "[encoded data removed]",
      "text/plain": [
       "<Figure size 584x540 with 6 Axes>"
      ]
     },
     "metadata": {
      "needs_background": "light"
     },
     "output_type": "display_data"
    }
   ],
   "source": [
    "\"\"\"The plot below further demonstrates that 1st class passangers were more likely to survive while 3rd class passangers were less likely to survive\"\"\"\n",
    "\n",
    "\n",
    "### ['Child', 'Adult', 'Senior'] are [0, 2, 1]\n",
    "\n",
    "grid = sns.FacetGrid(df, col='Survived', row='Pclass', size=2.5, aspect=1.6)\n",
    "grid.map(plt.hist, 'AgeGroup', alpha=1, bins=20)\n",
    "grid.add_legend()"
   ]
  },
  {
   "cell_type": "markdown",
   "metadata": {},
   "source": [
    "# Preprocessing\n",
    "### Combining Siblings/spouses and Parents/childern features to 'Family' column and making an 'alone' category"
   ]
  },
  {
   "cell_type": "code",
   "execution_count": 29,
   "metadata": {},
   "outputs": [
    {
     "name": "stdout",
     "output_type": "stream",
     "text": [
      "1    537\n",
      "0    354\n",
      "Name: Alone, dtype: int64\n"
     ]
    },
    {
     "name": "stderr",
     "output_type": "stream",
     "text": [
      "C:\\Users\\Konstantin\\anaconda3\\lib\\site-packages\\seaborn\\axisgrid.py:316: UserWarning: The `size` parameter has been renamed to `height`; please update your code.\n",
      "  warnings.warn(msg, UserWarning)\n"
     ]
    },
    {
     "data": {
      "image/png": "[encoded data removed]",
      "text/plain": [
       "<Figure size 432x288 with 1 Axes>"
      ]
     },
     "metadata": {
      "needs_background": "light"
     },
     "output_type": "display_data"
    },
    {
     "data": {
      "image/png": "[encoded data removed]",
      "text/plain": [
       "<Figure size 1160x360 with 2 Axes>"
      ]
     },
     "metadata": {
      "needs_background": "light"
     },
     "output_type": "display_data"
    }
   ],
   "source": [
    "# Making family column with both Parch and SibSp\n",
    "df['Family'] = df['Parch'] + df['SibSp']\n",
    "\n",
    "# Making alone category where Family column is 0 and then replacing the booleans with ints \n",
    "df['Alone'] = df['Family'] == 0\n",
    "df['Alone'].replace({False: 0, True: 1}, inplace=True)\n",
    "\n",
    "# How many in Family and Alone [1=is alone, 0=has family]\n",
    "print(df['Alone'].value_counts())\n",
    "\n",
    "# Displaying family sizes\n",
    "df['Family'].value_counts().plot.bar(title='How many passangers are alone and with family')\n",
    "\n",
    "\n",
    "# Displaying survivability with family amount, It seems like passangers with < 3 family members are more likely to survive\n",
    "grid = sns.FacetGrid(df, col='Survived', size=5, aspect=1.6)\n",
    "grid.map(plt.hist, 'Family', alpha=1, bins=20)\n",
    "grid.add_legend()\n",
    "\n",
    "# Dropping both Parch and SibSp columns from df\n",
    "df = df.drop(['Parch'], axis=1)\n",
    "df = df.drop(['SibSp'], axis=1)\n",
    "\n"
   ]
  },
  {
   "cell_type": "markdown",
   "metadata": {},
   "source": [
    "### To Consider: Should we do something quickly about the fare feature? Turn into categories maybe? "
   ]
  },
  {
   "cell_type": "code",
   "execution_count": 30,
   "metadata": {},
   "outputs": [
    {
     "data": {
      "text/html": [
       "<div>\n",
       "<style scoped>\n",
       "    .dataframe tbody tr th:only-of-type {\n",
       "        vertical-align: middle;\n",
       "    }\n",
       "\n",
       "    .dataframe tbody tr th {\n",
       "        vertical-align: top;\n",
       "    }\n",
       "\n",
       "    .dataframe thead th {\n",
       "        text-align: right;\n",
       "    }\n",
       "</style>\n",
       "<table border=\"1\" class=\"dataframe\">\n",
       "  <thead>\n",
       "    <tr style=\"text-align: right;\">\n",
       "      <th></th>\n",
       "      <th>Survived</th>\n",
       "      <th>Pclass</th>\n",
       "      <th>Sex</th>\n",
       "      <th>Fare</th>\n",
       "      <th>Embarked</th>\n",
       "      <th>Title</th>\n",
       "      <th>AgeGroup</th>\n",
       "      <th>Family</th>\n",
       "      <th>Alone</th>\n",
       "    </tr>\n",
       "  </thead>\n",
       "  <tbody>\n",
       "    <tr>\n",
       "      <th>0</th>\n",
       "      <td>0</td>\n",
       "      <td>3</td>\n",
       "      <td>1</td>\n",
       "      <td>7.2500</td>\n",
       "      <td>2</td>\n",
       "      <td>11</td>\n",
       "      <td>2</td>\n",
       "      <td>1</td>\n",
       "      <td>0</td>\n",
       "    </tr>\n",
       "    <tr>\n",
       "      <th>1</th>\n",
       "      <td>1</td>\n",
       "      <td>1</td>\n",
       "      <td>0</td>\n",
       "      <td>71.2833</td>\n",
       "      <td>0</td>\n",
       "      <td>12</td>\n",
       "      <td>2</td>\n",
       "      <td>1</td>\n",
       "      <td>0</td>\n",
       "    </tr>\n",
       "    <tr>\n",
       "      <th>2</th>\n",
       "      <td>1</td>\n",
       "      <td>3</td>\n",
       "      <td>0</td>\n",
       "      <td>7.9250</td>\n",
       "      <td>2</td>\n",
       "      <td>8</td>\n",
       "      <td>2</td>\n",
       "      <td>0</td>\n",
       "      <td>1</td>\n",
       "    </tr>\n",
       "    <tr>\n",
       "      <th>3</th>\n",
       "      <td>1</td>\n",
       "      <td>1</td>\n",
       "      <td>0</td>\n",
       "      <td>53.1000</td>\n",
       "      <td>2</td>\n",
       "      <td>12</td>\n",
       "      <td>2</td>\n",
       "      <td>1</td>\n",
       "      <td>0</td>\n",
       "    </tr>\n",
       "    <tr>\n",
       "      <th>4</th>\n",
       "      <td>0</td>\n",
       "      <td>3</td>\n",
       "      <td>1</td>\n",
       "      <td>8.0500</td>\n",
       "      <td>2</td>\n",
       "      <td>11</td>\n",
       "      <td>2</td>\n",
       "      <td>0</td>\n",
       "      <td>1</td>\n",
       "    </tr>\n",
       "    <tr>\n",
       "      <th>...</th>\n",
       "      <td>...</td>\n",
       "      <td>...</td>\n",
       "      <td>...</td>\n",
       "      <td>...</td>\n",
       "      <td>...</td>\n",
       "      <td>...</td>\n",
       "      <td>...</td>\n",
       "      <td>...</td>\n",
       "      <td>...</td>\n",
       "    </tr>\n",
       "    <tr>\n",
       "      <th>886</th>\n",
       "      <td>0</td>\n",
       "      <td>2</td>\n",
       "      <td>1</td>\n",
       "      <td>13.0000</td>\n",
       "      <td>2</td>\n",
       "      <td>14</td>\n",
       "      <td>2</td>\n",
       "      <td>0</td>\n",
       "      <td>1</td>\n",
       "    </tr>\n",
       "    <tr>\n",
       "      <th>887</th>\n",
       "      <td>1</td>\n",
       "      <td>1</td>\n",
       "      <td>0</td>\n",
       "      <td>30.0000</td>\n",
       "      <td>2</td>\n",
       "      <td>8</td>\n",
       "      <td>2</td>\n",
       "      <td>0</td>\n",
       "      <td>1</td>\n",
       "    </tr>\n",
       "    <tr>\n",
       "      <th>888</th>\n",
       "      <td>0</td>\n",
       "      <td>3</td>\n",
       "      <td>0</td>\n",
       "      <td>23.4500</td>\n",
       "      <td>2</td>\n",
       "      <td>8</td>\n",
       "      <td>1</td>\n",
       "      <td>3</td>\n",
       "      <td>0</td>\n",
       "    </tr>\n",
       "    <tr>\n",
       "      <th>889</th>\n",
       "      <td>1</td>\n",
       "      <td>1</td>\n",
       "      <td>1</td>\n",
       "      <td>30.0000</td>\n",
       "      <td>0</td>\n",
       "      <td>11</td>\n",
       "      <td>2</td>\n",
       "      <td>0</td>\n",
       "      <td>1</td>\n",
       "    </tr>\n",
       "    <tr>\n",
       "      <th>890</th>\n",
       "      <td>0</td>\n",
       "      <td>3</td>\n",
       "      <td>1</td>\n",
       "      <td>7.7500</td>\n",
       "      <td>1</td>\n",
       "      <td>11</td>\n",
       "      <td>2</td>\n",
       "      <td>0</td>\n",
       "      <td>1</td>\n",
       "    </tr>\n",
       "  </tbody>\n",
       "</table>\n",
       "<p>891 rows × 9 columns</p>\n",
       "</div>"
      ],
      "text/plain": [
       "     Survived  Pclass  Sex     Fare  Embarked  Title  AgeGroup  Family  Alone\n",
       "0           0       3    1   7.2500         2     11         2       1      0\n",
       "1           1       1    0  71.2833         0     12         2       1      0\n",
       "2           1       3    0   7.9250         2      8         2       0      1\n",
       "3           1       1    0  53.1000         2     12         2       1      0\n",
       "4           0       3    1   8.0500         2     11         2       0      1\n",
       "..        ...     ...  ...      ...       ...    ...       ...     ...    ...\n",
       "886         0       2    1  13.0000         2     14         2       0      1\n",
       "887         1       1    0  30.0000         2      8         2       0      1\n",
       "888         0       3    0  23.4500         2      8         1       3      0\n",
       "889         1       1    1  30.0000         0     11         2       0      1\n",
       "890         0       3    1   7.7500         1     11         2       0      1\n",
       "\n",
       "[891 rows x 9 columns]"
      ]
     },
     "metadata": {},
     "output_type": "display_data"
    },
    {
     "name": "stdout",
     "output_type": "stream",
     "text": [
      "<class 'pandas.core.frame.DataFrame'>\n",
      "RangeIndex: 891 entries, 0 to 890\n",
      "Data columns (total 9 columns):\n",
      " #   Column    Non-Null Count  Dtype  \n",
      "---  ------    --------------  -----  \n",
      " 0   Survived  891 non-null    int64  \n",
      " 1   Pclass    891 non-null    int64  \n",
      " 2   Sex       891 non-null    int32  \n",
      " 3   Fare      891 non-null    float64\n",
      " 4   Embarked  891 non-null    int32  \n",
      " 5   Title     891 non-null    int32  \n",
      " 6   AgeGroup  891 non-null    int32  \n",
      " 7   Family    891 non-null    int64  \n",
      " 8   Alone     891 non-null    int64  \n",
      "dtypes: float64(1), int32(4), int64(4)\n",
      "memory usage: 48.9 KB\n"
     ]
    }
   ],
   "source": [
    "display(df)\n",
    "df.info()\n"
   ]
  },
  {
   "cell_type": "markdown",
   "metadata": {},
   "source": [
    "### Preparing the data "
   ]
  },
  {
   "cell_type": "code",
   "execution_count": 64,
   "metadata": {},
   "outputs": [
    {
     "data": {
      "text/html": [
       "<div>\n",
       "<style scoped>\n",
       "    .dataframe tbody tr th:only-of-type {\n",
       "        vertical-align: middle;\n",
       "    }\n",
       "\n",
       "    .dataframe tbody tr th {\n",
       "        vertical-align: top;\n",
       "    }\n",
       "\n",
       "    .dataframe thead th {\n",
       "        text-align: right;\n",
       "    }\n",
       "</style>\n",
       "<table border=\"1\" class=\"dataframe\">\n",
       "  <thead>\n",
       "    <tr style=\"text-align: right;\">\n",
       "      <th></th>\n",
       "      <th>Pclass</th>\n",
       "      <th>Name</th>\n",
       "      <th>Sex</th>\n",
       "      <th>Age</th>\n",
       "      <th>SibSp</th>\n",
       "      <th>Parch</th>\n",
       "      <th>Ticket</th>\n",
       "      <th>Fare</th>\n",
       "      <th>Cabin</th>\n",
       "      <th>Embarked</th>\n",
       "    </tr>\n",
       "  </thead>\n",
       "  <tbody>\n",
       "    <tr>\n",
       "      <th>0</th>\n",
       "      <td>3</td>\n",
       "      <td>Kelly, Mr. James</td>\n",
       "      <td>male</td>\n",
       "      <td>34.5</td>\n",
       "      <td>0</td>\n",
       "      <td>0</td>\n",
       "      <td>330911</td>\n",
       "      <td>7.8292</td>\n",
       "      <td>NaN</td>\n",
       "      <td>Q</td>\n",
       "    </tr>\n",
       "    <tr>\n",
       "      <th>1</th>\n",
       "      <td>3</td>\n",
       "      <td>Wilkes, Mrs. James (Ellen Needs)</td>\n",
       "      <td>female</td>\n",
       "      <td>47.0</td>\n",
       "      <td>1</td>\n",
       "      <td>0</td>\n",
       "      <td>363272</td>\n",
       "      <td>7.0000</td>\n",
       "      <td>NaN</td>\n",
       "      <td>S</td>\n",
       "    </tr>\n",
       "    <tr>\n",
       "      <th>2</th>\n",
       "      <td>2</td>\n",
       "      <td>Myles, Mr. Thomas Francis</td>\n",
       "      <td>male</td>\n",
       "      <td>62.0</td>\n",
       "      <td>0</td>\n",
       "      <td>0</td>\n",
       "      <td>240276</td>\n",
       "      <td>9.6875</td>\n",
       "      <td>NaN</td>\n",
       "      <td>Q</td>\n",
       "    </tr>\n",
       "    <tr>\n",
       "      <th>3</th>\n",
       "      <td>3</td>\n",
       "      <td>Wirz, Mr. Albert</td>\n",
       "      <td>male</td>\n",
       "      <td>27.0</td>\n",
       "      <td>0</td>\n",
       "      <td>0</td>\n",
       "      <td>315154</td>\n",
       "      <td>8.6625</td>\n",
       "      <td>NaN</td>\n",
       "      <td>S</td>\n",
       "    </tr>\n",
       "    <tr>\n",
       "      <th>4</th>\n",
       "      <td>3</td>\n",
       "      <td>Hirvonen, Mrs. Alexander (Helga E Lindqvist)</td>\n",
       "      <td>female</td>\n",
       "      <td>22.0</td>\n",
       "      <td>1</td>\n",
       "      <td>1</td>\n",
       "      <td>3101298</td>\n",
       "      <td>12.2875</td>\n",
       "      <td>NaN</td>\n",
       "      <td>S</td>\n",
       "    </tr>\n",
       "    <tr>\n",
       "      <th>...</th>\n",
       "      <td>...</td>\n",
       "      <td>...</td>\n",
       "      <td>...</td>\n",
       "      <td>...</td>\n",
       "      <td>...</td>\n",
       "      <td>...</td>\n",
       "      <td>...</td>\n",
       "      <td>...</td>\n",
       "      <td>...</td>\n",
       "      <td>...</td>\n",
       "    </tr>\n",
       "    <tr>\n",
       "      <th>413</th>\n",
       "      <td>3</td>\n",
       "      <td>Spector, Mr. Woolf</td>\n",
       "      <td>male</td>\n",
       "      <td>NaN</td>\n",
       "      <td>0</td>\n",
       "      <td>0</td>\n",
       "      <td>A.5. 3236</td>\n",
       "      <td>8.0500</td>\n",
       "      <td>NaN</td>\n",
       "      <td>S</td>\n",
       "    </tr>\n",
       "    <tr>\n",
       "      <th>414</th>\n",
       "      <td>1</td>\n",
       "      <td>Oliva y Ocana, Dona. Fermina</td>\n",
       "      <td>female</td>\n",
       "      <td>39.0</td>\n",
       "      <td>0</td>\n",
       "      <td>0</td>\n",
       "      <td>PC 17758</td>\n",
       "      <td>108.9000</td>\n",
       "      <td>C105</td>\n",
       "      <td>C</td>\n",
       "    </tr>\n",
       "    <tr>\n",
       "      <th>415</th>\n",
       "      <td>3</td>\n",
       "      <td>Saether, Mr. Simon Sivertsen</td>\n",
       "      <td>male</td>\n",
       "      <td>38.5</td>\n",
       "      <td>0</td>\n",
       "      <td>0</td>\n",
       "      <td>SOTON/O.Q. 3101262</td>\n",
       "      <td>7.2500</td>\n",
       "      <td>NaN</td>\n",
       "      <td>S</td>\n",
       "    </tr>\n",
       "    <tr>\n",
       "      <th>416</th>\n",
       "      <td>3</td>\n",
       "      <td>Ware, Mr. Frederick</td>\n",
       "      <td>male</td>\n",
       "      <td>NaN</td>\n",
       "      <td>0</td>\n",
       "      <td>0</td>\n",
       "      <td>359309</td>\n",
       "      <td>8.0500</td>\n",
       "      <td>NaN</td>\n",
       "      <td>S</td>\n",
       "    </tr>\n",
       "    <tr>\n",
       "      <th>417</th>\n",
       "      <td>3</td>\n",
       "      <td>Peter, Master. Michael J</td>\n",
       "      <td>male</td>\n",
       "      <td>NaN</td>\n",
       "      <td>1</td>\n",
       "      <td>1</td>\n",
       "      <td>2668</td>\n",
       "      <td>22.3583</td>\n",
       "      <td>NaN</td>\n",
       "      <td>C</td>\n",
       "    </tr>\n",
       "  </tbody>\n",
       "</table>\n",
       "<p>418 rows × 10 columns</p>\n",
       "</div>"
      ],
      "text/plain": [
       "     Pclass                                          Name     Sex   Age  \\\n",
       "0         3                              Kelly, Mr. James    male  34.5   \n",
       "1         3              Wilkes, Mrs. James (Ellen Needs)  female  47.0   \n",
       "2         2                     Myles, Mr. Thomas Francis    male  62.0   \n",
       "3         3                              Wirz, Mr. Albert    male  27.0   \n",
       "4         3  Hirvonen, Mrs. Alexander (Helga E Lindqvist)  female  22.0   \n",
       "..      ...                                           ...     ...   ...   \n",
       "413       3                            Spector, Mr. Woolf    male   NaN   \n",
       "414       1                  Oliva y Ocana, Dona. Fermina  female  39.0   \n",
       "415       3                  Saether, Mr. Simon Sivertsen    male  38.5   \n",
       "416       3                           Ware, Mr. Frederick    male   NaN   \n",
       "417       3                      Peter, Master. Michael J    male   NaN   \n",
       "\n",
       "     SibSp  Parch              Ticket      Fare Cabin Embarked  \n",
       "0        0      0              330911    7.8292   NaN        Q  \n",
       "1        1      0              363272    7.0000   NaN        S  \n",
       "2        0      0              240276    9.6875   NaN        Q  \n",
       "3        0      0              315154    8.6625   NaN        S  \n",
       "4        1      1             3101298   12.2875   NaN        S  \n",
       "..     ...    ...                 ...       ...   ...      ...  \n",
       "413      0      0           A.5. 3236    8.0500   NaN        S  \n",
       "414      0      0            PC 17758  108.9000  C105        C  \n",
       "415      0      0  SOTON/O.Q. 3101262    7.2500   NaN        S  \n",
       "416      0      0              359309    8.0500   NaN        S  \n",
       "417      1      1                2668   22.3583   NaN        C  \n",
       "\n",
       "[418 rows x 10 columns]"
      ]
     },
     "metadata": {},
     "output_type": "display_data"
    }
   ],
   "source": [
    "# Load in the test.csv\n",
    "test_df = pd.read_csv('./data/test.csv')\n",
    "# test = test_df.drop('PassengerId', axis=1) # to avoid error\n",
    "\n",
    "X_training = df.iloc[:,1:9] \n",
    "y_training = df['Survived']\n",
    "\n",
    "# Train test split - \n",
    "###The train-test split procedure is used to estimate the performance of machine learning algorithms \n",
    "### when they are used to make predictions on data not used to train the model.\n",
    "X_train, X_val, y_train, y_val = train_test_split(X_training, y_training)\n"
   ]
  },
  {
   "cell_type": "markdown",
   "metadata": {},
   "source": [
    "### Initializing the models"
   ]
  },
  {
   "cell_type": "code",
   "execution_count": 36,
   "metadata": {},
   "outputs": [],
   "source": [
    "# Random Forest \n",
    "rfc_e_end = RandomForestClassifier(criterion='entropy')\n",
    "rfc_g_end = RandomForestClassifier(criterion='gini')\n",
    "# Stochastic Gradient Descent\n",
    "sgd = SGDClassifier()\n",
    "# Gaussian Naive Bayes\n",
    "gnb = GaussianNB()"
   ]
  },
  {
   "cell_type": "markdown",
   "metadata": {},
   "source": [
    "### Running the models"
   ]
  },
  {
   "cell_type": "code",
   "execution_count": 44,
   "metadata": {},
   "outputs": [
    {
     "name": "stdout",
     "output_type": "stream",
     "text": [
      "[0.74860335 0.78089888 0.7752809  0.82022472 0.81460674]\n",
      "gnb 0.7879229175820727 accuracy with standard diviation of 0.026497618295435687\n",
      "gnb accuracy score is : 0.7982062780269058\n"
     ]
    }
   ],
   "source": [
    "### Gaussian Naive Bayes \n",
    "gnb_res = cross_val_score(gnb, X_training, y_training)\n",
    "print(gnb_res)\n",
    "print(f\"gnb {gnb_res.mean()} accuracy with standard diviation of {gnb_res.std()}\")\n",
    "\n",
    "gnb_pred = gnb.predict(X_val)\n",
    "print(f\"gnb accuracy score is : {accuracy_score(y_val, gnb_pred)}\")"
   ]
  },
  {
   "cell_type": "code",
   "execution_count": 77,
   "metadata": {},
   "outputs": [
    {
     "name": "stdout",
     "output_type": "stream",
     "text": [
      "[0.7877095  0.7752809  0.84269663 0.76966292 0.83146067]\n",
      "[0.79888268 0.76966292 0.85393258 0.78089888 0.83146067]\n",
      "rfc_e 0.80 accuracy with a standard deviation of 0.03\n",
      "rfc_g 0.81 accuracy with a standard deviation of 0.03\n",
      "rfc_e accuracy score is : 0.9237668161434978\n",
      "rfc_g accuracy score is : 0.9237668161434978\n"
     ]
    }
   ],
   "source": [
    "### Random Forest Classification\n",
    "scores_rfc_e_end = cross_val_score(rfc_e_end, X_training, y_training, cv=5)\n",
    "scores_rfc_g_end = cross_val_score(rfc_g_end, X_training, y_training, cv=5)\n",
    "\n",
    "print(scores_rfc_e_end)\n",
    "print(scores_rfc_g_end)\n",
    "print(\"rfc_e %0.2f accuracy with a standard deviation of %0.2f\" % (scores_rfc_e_end.mean(), scores_rfc_e_end.std()))\n",
    "print(\"rfc_g %0.2f accuracy with a standard deviation of %0.2f\" % (scores_rfc_g_end.mean(), scores_rfc_g_end.std()))\n",
    "\n",
    "rfc_e_end.fit(X_training, y_training)\n",
    "rfc_e_pred = rfc_e_end.predict(X_val)\n",
    "print(f\"rfc_e accuracy score is : {accuracy_score(y_val, rfc_e_pred)}\")\n",
    "\n",
    "rfc_g_end.fit(X_training, y_training)\n",
    "rfc_g_pred = rfc_g_end.predict(X_val)\n",
    "print(f\"rfc_g accuracy score is : {accuracy_score(y_val, rfc_e_pred)}\")\n",
    "\n"
   ]
  },
  {
   "cell_type": "code",
   "execution_count": 61,
   "metadata": {},
   "outputs": [
    {
     "name": "stdout",
     "output_type": "stream",
     "text": [
      "[0.68156425 0.57865169 0.61797753 0.80898876 0.61235955]\n",
      "sgd 0.6599083547799885 accuracy with standard diviation of 0.08162802873061702\n",
      "sgd accuracy score is : 0.6816143497757847\n",
      "0.7115600448933782\n"
     ]
    }
   ],
   "source": [
    "### Stochastic Gradient Descent\n",
    "sgd_scores = cross_val_score(sgd, X_training, y_training)\n",
    "print(sgd_scores)\n",
    "print(f\"sgd {sgd_scores.mean()} accuracy with standard diviation of {sgd_scores.std()}\")\n",
    "\n",
    "sgd.fit(X_training, y_training)\n",
    "sgd_pred = sgd.predict(X_val)\n",
    "print(f\"sgd accuracy score is : {accuracy_score(y_val, sgd_pred)}\")\n",
    "print(sgd.score(X_training, y_training))\n"
   ]
  },
  {
   "cell_type": "code",
   "execution_count": 71,
   "metadata": {},
   "outputs": [
    {
     "data": {
      "text/html": [
       "<div>\n",
       "<style scoped>\n",
       "    .dataframe tbody tr th:only-of-type {\n",
       "        vertical-align: middle;\n",
       "    }\n",
       "\n",
       "    .dataframe tbody tr th {\n",
       "        vertical-align: top;\n",
       "    }\n",
       "\n",
       "    .dataframe thead th {\n",
       "        text-align: right;\n",
       "    }\n",
       "</style>\n",
       "<table border=\"1\" class=\"dataframe\">\n",
       "  <thead>\n",
       "    <tr style=\"text-align: right;\">\n",
       "      <th></th>\n",
       "      <th>Scores for models:</th>\n",
       "      <th>Models</th>\n",
       "    </tr>\n",
       "  </thead>\n",
       "  <tbody>\n",
       "    <tr>\n",
       "      <th>0</th>\n",
       "      <td>0.787923</td>\n",
       "      <td>Gaussian Naive Bayes</td>\n",
       "    </tr>\n",
       "    <tr>\n",
       "      <th>1</th>\n",
       "      <td>0.806974</td>\n",
       "      <td>Random Forest Classification (Entropy)</td>\n",
       "    </tr>\n",
       "    <tr>\n",
       "      <th>2</th>\n",
       "      <td>0.795750</td>\n",
       "      <td>Random Forest Classification (Gini)</td>\n",
       "    </tr>\n",
       "    <tr>\n",
       "      <th>3</th>\n",
       "      <td>0.659908</td>\n",
       "      <td>Stochastic Gradient Descent</td>\n",
       "    </tr>\n",
       "  </tbody>\n",
       "</table>\n",
       "</div>"
      ],
      "text/plain": [
       "   Scores for models:                                  Models\n",
       "0            0.787923                    Gaussian Naive Bayes\n",
       "1            0.806974  Random Forest Classification (Entropy)\n",
       "2            0.795750     Random Forest Classification (Gini)\n",
       "3            0.659908             Stochastic Gradient Descent"
      ]
     },
     "metadata": {},
     "output_type": "display_data"
    }
   ],
   "source": [
    "### Table of results\n",
    "\n",
    "table_res = pd.DataFrame({'Scores for models:': [gnb_res.mean(), scores_rfc_e_end.mean(), scores_rfc_g_end.mean(), sgd_scores.mean()], \n",
    "                            'Models': ['Gaussian Naive Bayes', 'Random Forest Classification (Entropy)', 'Random Forest Classification (Gini)', 'Stochastic Gradient Descent']})\n",
    "\n",
    "display(table_res)"
   ]
  },
  {
   "cell_type": "code",
   "execution_count": 76,
   "metadata": {},
   "outputs": [
    {
     "data": {
      "text/plain": [
       "<BarContainer object of 8 artists>"
      ]
     },
     "execution_count": 76,
     "metadata": {},
     "output_type": "execute_result"
    },
    {
     "data": {
      "image/png": "[encoded data removed]",
      "text/plain": [
       "<Figure size 432x288 with 1 Axes>"
      ]
     },
     "metadata": {
      "needs_background": "light"
     },
     "output_type": "display_data"
    }
   ],
   "source": [
    "### barchart of Importance\n",
    "# Show importances of features, (checks by what do each tree break into nodes), \n",
    "\n",
    "plt.barh(X_training.columns, rfc_e_end.feature_importances_)"
   ]
  }
 ],
 "metadata": {
  "interpreter": {
   "hash": "916dbcbb3f70747c44a77c7bcd40155683ae19c65e1c03b4aa3499c5328201f1"
  },
  "kernelspec": {
   "display_name": "Python 3.9.7 64-bit",
   "name": "python3"
  },
  "language_info": {
   "codemirror_mode": {
    "name": "ipython",
    "version": 3
   },
   "file_extension": ".py",
   "mimetype": "text/x-python",
   "name": "python",
   "nbconvert_exporter": "python",
   "pygments_lexer": "ipython3",
   "version": "3.8.8"
  },
  "orig_nbformat": 4
 },
 "nbformat": 4,
 "nbformat_minor": 2
}
