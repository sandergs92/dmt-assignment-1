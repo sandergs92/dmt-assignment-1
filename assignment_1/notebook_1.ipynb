{
 "cells": [
  {
   "cell_type": "markdown",
   "source": [
    "# Assignment 1"
   ],
   "metadata": {}
  },
  {
   "cell_type": "code",
   "execution_count": 1,
   "source": [
    "import helper\n",
    "\n",
    "ODI_DATASET_PATH = './data/ODI-2022.csv'"
   ],
   "outputs": [],
   "metadata": {}
  },
  {
   "cell_type": "code",
   "execution_count": 3,
   "source": [
    "# Initialize 2 dimensional array\n",
    "dataset = helper.get_data(ODI_DATASET_PATH)\n",
    "# Initialize columns\n",
    "columns = list(zip(*dataset))\n",
    "\n",
    "# print(\"What programme are you in? = {}\".format(columns[1]))\n",
    "# print(\"Have you taken a course on machine learning? = {}\".format(columns[2]))\n",
    "# print(\"Have you taken a course on information retrieval?; = {}\".format(columns[3]))\n",
    "# mu is yes, sigma is no\n",
    "# print(\"Have you taken a course on statistics? = {}\".format(columns[4]))\n",
    "# print(\"Have you taken a course on databases? = {}\".format(columns[5]))\n",
    "# print(\"What is your gender? = {}\".format(columns[6]))\n",
    "# print(\"Chocolate makes you..... = {}\".format(columns[7]))\n",
    "# print(\"When is your birthday (date)? = {}\".format(columns[8]))\n",
    "# print(\"Number of neighbors sitting around you? = {}\".format(columns[9]))\n",
    "# print(\"Did you stand up? = {}\".format(columns[10]))\n",
    "# print(\"What is your stress level (0-100)? = {}\".format(columns[11]))\n",
    "# print(\"You can get 100 euros if you win a local DM competition, or we don’t hold any competitions and I give everyone some money (not the same amount!). How much do you think you would deserve then? = {}\".format(columns[12]))\n",
    "# print(\"Give a random number = {}\".format(columns[13]))\n",
    "# print(\"Time you went to be Yesterday = {}\".format(columns[14]))\n",
    "# print(\"What makes a good day for you (1)?; = {}\".format(columns[15]))\n",
    "# print(\"What makes a good day for you (2)? = {}\".format(columns[16]))\n",
    "\n"
   ],
   "outputs": [
    {
     "output_type": "stream",
     "name": "stderr",
     "text": [
      "/home/sanderg/Documents/Studieshiz/dmt-assignment-1/assignment_1/helper.py:5: ConversionWarning: Some errors were detected !\n",
      "    Line #150 (got 13 columns instead of 17)\n",
      "    Line #207 (got 18 columns instead of 17)\n",
      "  array = np.genfromtxt(file_name, dtype=datatype, delimiter=\";\", invalid_raise=False, skip_header=True)\n"
     ]
    }
   ],
   "metadata": {}
  },
  {
   "cell_type": "code",
   "execution_count": null,
   "source": [
    "# How many records are there\n",
    "# How many attributes?\n",
    "# What kinds of attributes are there \n",
    "# Ranges of values\n",
    "# Distribution of values,\n",
    "# relationships between attributes\n",
    "# and so on."
   ],
   "outputs": [],
   "metadata": {}
  },
  {
   "cell_type": "code",
   "execution_count": null,
   "source": [
    "# Make various plots of the data. Is there something interesting worth reporting? Re-\n",
    "# port the figures, discuss what is in them. What meaning do those bars, lines, dots, etc.\n",
    "# convey? Please select essential and interesting plots for discussion, as you have limited\n",
    "# space for reporting your findings (see details in a later section)."
   ],
   "outputs": [],
   "metadata": {}
  }
 ],
 "metadata": {
  "orig_nbformat": 4,
  "language_info": {
   "name": "python",
   "version": "3.9.7",
   "mimetype": "text/x-python",
   "codemirror_mode": {
    "name": "ipython",
    "version": 3
   },
   "pygments_lexer": "ipython3",
   "nbconvert_exporter": "python",
   "file_extension": ".py"
  },
  "kernelspec": {
   "name": "python3",
   "display_name": "Python 3.9.7 64-bit"
  },
  "interpreter": {
   "hash": "916dbcbb3f70747c44a77c7bcd40155683ae19c65e1c03b4aa3499c5328201f1"
  }
 },
 "nbformat": 4,
 "nbformat_minor": 2
}