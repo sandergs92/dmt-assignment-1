{
 "cells": [
  {
   "cell_type": "markdown",
   "metadata": {},
   "source": [
    "# Assignment 1"
   ]
  },
  {
   "cell_type": "code",
   "execution_count": 1,
   "metadata": {},
   "outputs": [],
   "source": [
    "import re\n",
    "import helper\n",
    "import numpy as np\n",
    "import pandas as pd\n",
    "\n",
    "ODI_DATASET_PATH = './data/ODI-2022.csv'"
   ]
  },
  {
   "cell_type": "code",
   "execution_count": 2,
   "metadata": {},
   "outputs": [],
   "source": [
    "# # load csv file to pandas dataframe to retrieve column names\n",
    "# df_temp= pd.read_csv(\"./data/ODI-2022.csv\", delimiter=\";\")\n",
    "# df_temp"
   ]
  },
  {
   "cell_type": "code",
   "execution_count": 3,
   "metadata": {},
   "outputs": [
    {
     "name": "stderr",
     "output_type": "stream",
     "text": [
      "/Users/rvandelaar/Desktop/School/Master AI/DMT/dmt-assignment-1/assignment_1/helper.py:5: ConversionWarning: Some errors were detected !\n",
      "    Line #150 (got 13 columns instead of 17)\n",
      "    Line #207 (got 18 columns instead of 17)\n",
      "  array = np.genfromtxt(file_name, dtype=datatype, delimiter=\";\", invalid_raise=False, skip_header=True)\n"
     ]
    }
   ],
   "source": [
    "# Initialize 2 dimensional array\n",
    "dataset = helper.get_data(ODI_DATASET_PATH)\n",
    "# Initialize columns\n",
    "columns = list(zip(*dataset))\n",
    "\n",
    "# print(\"What programme are you in? = {}\".format(columns[1]))\n",
    "# print(\"Have you taken a course on machine learning? = {}\".format(columns[2]))\n",
    "# print(\"Have you taken a course on information retrieval?; = {}\".format(columns[3]))\n",
    "# # mu is yes, sigma is no\n",
    "# print(\"Have you taken a course on statistics? = {}\".format(columns[4]))\n",
    "# print(\"Have you taken a course on databases? = {}\".format(columns[5]))\n",
    "# print(\"What is your gender? = {}\".format(columns[6]))\n",
    "# print(\"Chocolate makes you..... = {}\".format(columns[7]))\n",
    "# print(\"When is your birthday (date)? = {}\".format(columns[8]))\n",
    "# print(\"Number of neighbors sitting around you? = {}\".format(columns[9]))\n",
    "# print(\"Did you stand up? = {}\".format(columns[10]))\n",
    "# print(\"What is your stress level (0-100)? = {}\".format(columns[11]))\n",
    "# print(\"You can get 100 euros if you win a local DM competition, or we don’t hold any competitions and I give everyone some money (not the same amount!). How much do you think you would deserve then? = {}\".format(columns[12]))\n",
    "# print(\"Give a random number = {}\".format(columns[13]))\n",
    "# print(\"Time you went to be Yesterday = {}\".format(columns[14]))\n",
    "# print(\"What makes a good day for you (1)?; = {}\".format(columns[15]))\n",
    "# print(\"What makes a good day for you (2)? = {}\".format(columns[16]))\n",
    "\n"
   ]
  },
  {
   "cell_type": "code",
   "execution_count": 42,
   "metadata": {},
   "outputs": [
    {
     "name": "stdout",
     "output_type": "stream",
     "text": [
      "[  5 100   0  10  87  55  99  30   1  20   2  77  80  69  50  70   7  25\n",
      "  66  23  35  88   6  60  12  40   3  33  13   8  85  75  15  98]\n"
     ]
    }
   ],
   "source": [
    "# load csv file to pandas dataframe to retrieve column names\n",
    "df_temp= pd.read_csv(\"./data/ODI-2022.csv\", delimiter=\";\")\n",
    "column_names = df_temp.columns\n",
    "\n",
    "# convert dataset to pandas dataframe using column names from df_temp\n",
    "df = pd.DataFrame(dataset)\n",
    "df.columns=column_names\n",
    "\n",
    "## clean all column values\n",
    "# remove unimportant columns\n",
    "df = df.drop(\"Tijdstempel\", axis=1) # remove Tijdstempel column because it has no meaning\n",
    "df = df.drop(\"Did you stand up?\", axis=1) # remove stand up column because it has no meaning\n",
    "df = df.drop(\"Number of neighbors sitting around you?\", axis=1) # remove neighbours column because it has no meaning\n",
    "df = df.drop(\"Give a random number\", axis=1) # remove random number column because it has no meaning\n",
    "\n",
    "# convert column values to boolean for yes/no questions\n",
    "df['Have you taken a course on machine learning?'] = df['Have you taken a course on machine learning?'].replace(['yes','no','unknown'],[True,False,False])\n",
    "df['Have you taken a course on information retrieval?'] = df['Have you taken a course on information retrieval?'].replace([1,0,-1],[True,False, False])\n",
    "df['Have you taken a course on statistics?'] = df['Have you taken a course on statistics?'].replace(['mu','sigma', 'unknown'],[True,False,False])\n",
    "df['Have you taken a course on databases?'] = df['Have you taken a course on databases?'].replace(['ja','nee', 'unknown'],[True,False,False])\n",
    "\n",
    "df['Have you taken a course on machine learning?'] = df['Have you taken a course on machine learning?'].astype('bool')\n",
    "df['Have you taken a course on information retrieval?'] = df['Have you taken a course on information retrieval?'].astype('bool')\n",
    "df['Have you taken a course on statistics?'] = df['Have you taken a course on statistics?'].astype('bool')\n",
    "df['Have you taken a course on databases?'] = df['Have you taken a course on databases?'].astype('bool')\n",
    "\n",
    "# only keep years in birthday column\n",
    "def get_year(name):\n",
    "    year = re.search('[0-9]{4}', name)\n",
    "    symbols = {'/', '.', '-'}\n",
    "    if year == None:\n",
    "        if len(name) > 4 and any(sym in name for sym in symbols):\n",
    "            year = \"19\" + name[-2:]\n",
    "            if year.isdecimal():\n",
    "                year = int(year)\n",
    "                if 1930 > year:\n",
    "                    return np.nan\n",
    "                elif year > 2005:\n",
    "                    return np.nan\n",
    "                else:\n",
    "                    return year\n",
    "            else:\n",
    "                return np.nan\n",
    "        else:\n",
    "            return np.nan\n",
    "    else:\n",
    "        year = int(year.group(0))\n",
    "        if 1930 > year:\n",
    "            return np.nan\n",
    "        elif year > 2005:\n",
    "            return np.nan\n",
    "        else:\n",
    "            return year\n",
    "\n",
    "# iterate all rows of birthday column and set all birthdays to year\n",
    "for index, row in df.iterrows():\n",
    "    birthday = (row[\"When is your birthday (date)?\"])\n",
    "    new_birthday = get_year(birthday)\n",
    "    df['When is your birthday (date)?'] = df['When is your birthday (date)?'].replace([birthday],new_birthday)\n",
    "\n",
    "# clean stress level column\n",
    "df = df.astype({'What is your stress level (0-100)?': int}, errors='raise')\n",
    "df[df['What is your stress level (0-100)?'] > 100] = 100\n",
    "df[df['What is your stress level (0-100)?'] < 0] = 0\n",
    "\n",
    "# clean competition column\n",
    "df.rename(columns = {'You can get 100 euros if you win a local DM competition, or we don’t hold any competitions and I give everyone some money (not the same amount!). How much do you think you would deserve then? ':'competition'}, inplace = True)\n",
    "df = df.astype({'competition': int}, errors='raise')\n",
    "df[df['competition'] > 100] = 100\n",
    "df[df['competition'] < 0] = 0\n",
    "print(df['competition'].unique())\n",
    "\n",
    "\n",
    "# What kinds of attributes are there\n",
    "## Boolean, object, integer, float\n",
    "# print(df['What is your gender?'].unique())\n",
    "# print(df.dtypes)\n",
    "# display(df)\n",
    "\n",
    "\n",
    "# Ranges of values\n",
    "# Distribution of values,\n",
    "# relationships between attributes\n",
    "# and so on."
   ]
  },
  {
   "cell_type": "code",
   "execution_count": 6,
   "metadata": {},
   "outputs": [],
   "source": [
    "# How many records are there\n",
    "n_records = df.shape[0]\n",
    "print(f\"There are {n_records} records in the file.\")\n",
    "\n",
    "# How many attributes?\n",
    "n_attributes = len(df.columns)\n",
    "print(f\"There are {n_attributes} attributes in the file.\")\n",
    "\n",
    "# Make various plots of the data. Is there something interesting worth reporting? Re-\n",
    "# port the figures, discuss what is in them. What meaning do those bars, lines, dots, etc.\n",
    "# convey? Please select essential and interesting plots for discussion, as you have limited\n",
    "# space for reporting your findings (see details in a later section)."
   ]
  }
 ],
 "metadata": {
  "interpreter": {
   "hash": "916dbcbb3f70747c44a77c7bcd40155683ae19c65e1c03b4aa3499c5328201f1"
  },
  "kernelspec": {
   "display_name": "Python 3.9.7 64-bit",
   "name": "python3"
  },
  "language_info": {
   "codemirror_mode": {
    "name": "ipython",
    "version": 3
   },
   "file_extension": ".py",
   "mimetype": "text/x-python",
   "name": "python",
   "nbconvert_exporter": "python",
   "pygments_lexer": "ipython3",
   "version": "3.8.2"
  },
  "orig_nbformat": 4
 },
 "nbformat": 4,
 "nbformat_minor": 2
}
